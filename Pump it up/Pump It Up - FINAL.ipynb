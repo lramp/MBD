{
 "cells": [
  {
   "cell_type": "code",
   "execution_count": 95,
   "metadata": {},
   "outputs": [],
   "source": [
    "# importing basic libraries\n",
    "import numpy as np\n",
    "import pandas as pd\n",
    "from IPython.display import display"
   ]
  },
  {
   "cell_type": "markdown",
   "metadata": {},
   "source": [
    "### Importing data"
   ]
  },
  {
   "cell_type": "code",
   "execution_count": 96,
   "metadata": {},
   "outputs": [],
   "source": [
    "# loading the data\n",
    "training = pd.read_csv(\"Training.csv\")\n",
    "test = pd.read_csv(\"Test.csv\")\n",
    "Y_training = pd.read_csv('Y_Training.csv')"
   ]
  },
  {
   "cell_type": "code",
   "execution_count": 97,
   "metadata": {},
   "outputs": [
    {
     "name": "stdout",
     "output_type": "stream",
     "text": [
      "y shape: (59400, 1)\n"
     ]
    }
   ],
   "source": [
    "# getting labels\n",
    "y = Y_training.drop(['id'], axis=1)\n",
    "\n",
    "print(\"y shape:\",y.shape)\n",
    "\n",
    "# merging training and Y_training\n",
    "train = training.merge(Y_training, left_on='id', right_on='id', how='inner')"
   ]
  },
  {
   "cell_type": "markdown",
   "metadata": {},
   "source": [
    "### Data exploration & understanding"
   ]
  },
  {
   "cell_type": "code",
   "execution_count": 98,
   "metadata": {
    "scrolled": true
   },
   "outputs": [
    {
     "data": {
      "text/html": [
       "<div>\n",
       "<style scoped>\n",
       "    .dataframe tbody tr th:only-of-type {\n",
       "        vertical-align: middle;\n",
       "    }\n",
       "\n",
       "    .dataframe tbody tr th {\n",
       "        vertical-align: top;\n",
       "    }\n",
       "\n",
       "    .dataframe thead th {\n",
       "        text-align: right;\n",
       "    }\n",
       "</style>\n",
       "<table border=\"1\" class=\"dataframe\">\n",
       "  <thead>\n",
       "    <tr style=\"text-align: right;\">\n",
       "      <th></th>\n",
       "      <th>id</th>\n",
       "      <th>amount_tsh</th>\n",
       "      <th>date_recorded</th>\n",
       "      <th>funder</th>\n",
       "      <th>gps_height</th>\n",
       "      <th>installer</th>\n",
       "      <th>longitude</th>\n",
       "      <th>latitude</th>\n",
       "      <th>wpt_name</th>\n",
       "      <th>num_private</th>\n",
       "      <th>...</th>\n",
       "      <th>water_quality</th>\n",
       "      <th>quality_group</th>\n",
       "      <th>quantity</th>\n",
       "      <th>quantity_group</th>\n",
       "      <th>source</th>\n",
       "      <th>source_type</th>\n",
       "      <th>source_class</th>\n",
       "      <th>waterpoint_type</th>\n",
       "      <th>waterpoint_type_group</th>\n",
       "      <th>status_group</th>\n",
       "    </tr>\n",
       "  </thead>\n",
       "  <tbody>\n",
       "    <tr>\n",
       "      <th>0</th>\n",
       "      <td>69572</td>\n",
       "      <td>6000.0</td>\n",
       "      <td>2011-03-14</td>\n",
       "      <td>Roman</td>\n",
       "      <td>1390</td>\n",
       "      <td>Roman</td>\n",
       "      <td>34.938093</td>\n",
       "      <td>-9.856322</td>\n",
       "      <td>none</td>\n",
       "      <td>0</td>\n",
       "      <td>...</td>\n",
       "      <td>soft</td>\n",
       "      <td>good</td>\n",
       "      <td>enough</td>\n",
       "      <td>enough</td>\n",
       "      <td>spring</td>\n",
       "      <td>spring</td>\n",
       "      <td>groundwater</td>\n",
       "      <td>communal standpipe</td>\n",
       "      <td>communal standpipe</td>\n",
       "      <td>functional</td>\n",
       "    </tr>\n",
       "    <tr>\n",
       "      <th>1</th>\n",
       "      <td>8776</td>\n",
       "      <td>0.0</td>\n",
       "      <td>2013-03-06</td>\n",
       "      <td>Grumeti</td>\n",
       "      <td>1399</td>\n",
       "      <td>GRUMETI</td>\n",
       "      <td>34.698766</td>\n",
       "      <td>-2.147466</td>\n",
       "      <td>Zahanati</td>\n",
       "      <td>0</td>\n",
       "      <td>...</td>\n",
       "      <td>soft</td>\n",
       "      <td>good</td>\n",
       "      <td>insufficient</td>\n",
       "      <td>insufficient</td>\n",
       "      <td>rainwater harvesting</td>\n",
       "      <td>rainwater harvesting</td>\n",
       "      <td>surface</td>\n",
       "      <td>communal standpipe</td>\n",
       "      <td>communal standpipe</td>\n",
       "      <td>functional</td>\n",
       "    </tr>\n",
       "    <tr>\n",
       "      <th>2</th>\n",
       "      <td>34310</td>\n",
       "      <td>25.0</td>\n",
       "      <td>2013-02-25</td>\n",
       "      <td>Lottery Club</td>\n",
       "      <td>686</td>\n",
       "      <td>World vision</td>\n",
       "      <td>37.460664</td>\n",
       "      <td>-3.821329</td>\n",
       "      <td>Kwa Mahundi</td>\n",
       "      <td>0</td>\n",
       "      <td>...</td>\n",
       "      <td>soft</td>\n",
       "      <td>good</td>\n",
       "      <td>enough</td>\n",
       "      <td>enough</td>\n",
       "      <td>dam</td>\n",
       "      <td>dam</td>\n",
       "      <td>surface</td>\n",
       "      <td>communal standpipe multiple</td>\n",
       "      <td>communal standpipe</td>\n",
       "      <td>functional</td>\n",
       "    </tr>\n",
       "  </tbody>\n",
       "</table>\n",
       "<p>3 rows × 41 columns</p>\n",
       "</div>"
      ],
      "text/plain": [
       "      id  amount_tsh date_recorded        funder  gps_height     installer  \\\n",
       "0  69572      6000.0    2011-03-14         Roman        1390         Roman   \n",
       "1   8776         0.0    2013-03-06       Grumeti        1399       GRUMETI   \n",
       "2  34310        25.0    2013-02-25  Lottery Club         686  World vision   \n",
       "\n",
       "   longitude  latitude     wpt_name  num_private     ...      water_quality  \\\n",
       "0  34.938093 -9.856322         none            0     ...               soft   \n",
       "1  34.698766 -2.147466     Zahanati            0     ...               soft   \n",
       "2  37.460664 -3.821329  Kwa Mahundi            0     ...               soft   \n",
       "\n",
       "  quality_group      quantity  quantity_group                source  \\\n",
       "0          good        enough          enough                spring   \n",
       "1          good  insufficient    insufficient  rainwater harvesting   \n",
       "2          good        enough          enough                   dam   \n",
       "\n",
       "            source_type source_class              waterpoint_type  \\\n",
       "0                spring  groundwater           communal standpipe   \n",
       "1  rainwater harvesting      surface           communal standpipe   \n",
       "2                   dam      surface  communal standpipe multiple   \n",
       "\n",
       "  waterpoint_type_group status_group  \n",
       "0    communal standpipe   functional  \n",
       "1    communal standpipe   functional  \n",
       "2    communal standpipe   functional  \n",
       "\n",
       "[3 rows x 41 columns]"
      ]
     },
     "execution_count": 98,
     "metadata": {},
     "output_type": "execute_result"
    }
   ],
   "source": [
    "train.head(3)"
   ]
  },
  {
   "cell_type": "code",
   "execution_count": 99,
   "metadata": {},
   "outputs": [
    {
     "name": "stdout",
     "output_type": "stream",
     "text": [
      "Number of pump status available: 59400\n",
      "Number of features in the dataset: 40\n",
      "Number of functional pumps: 36576\n",
      "Number of non-functional pumps: 22824\n",
      "Rate of functioning pumps: 62 %\n"
     ]
    }
   ],
   "source": [
    "# getting some key numbers\n",
    "\n",
    "n_status = train.shape[0]\n",
    "\n",
    "n_feature = train.shape[1] - 1 #because of the label\n",
    " \n",
    "n_nonfunctional = np.count_nonzero((train['status_group'] == 'non functional'))\n",
    "\n",
    "n_functional = n_status - n_nonfunctional\n",
    "\n",
    "functional_rate = n_functional/n_status*100\n",
    "\n",
    "print('Number of pump status available:', n_status),\n",
    "print('Number of features in the dataset:', n_feature)\n",
    "print('Number of functional pumps:', n_functional)\n",
    "print('Number of non-functional pumps:', n_nonfunctional)\n",
    "print('Rate of functioning pumps:', round(functional_rate),'%')"
   ]
  },
  {
   "cell_type": "code",
   "execution_count": 100,
   "metadata": {},
   "outputs": [],
   "source": [
    "# storing and removing id\n",
    "training_id = training.id\n",
    "test_id = test.id\n",
    "training = training.drop(\"id\", inplace = False, axis = 1)\n",
    "test = test.drop(\"id\", inplace = False, axis = 1)"
   ]
  },
  {
   "cell_type": "code",
   "execution_count": 101,
   "metadata": {},
   "outputs": [
    {
     "name": "stdout",
     "output_type": "stream",
     "text": [
      "Shape of\n",
      "- training (59400, 39)\n",
      "- test (14850, 39)\n",
      "- train (59400, 41)\n"
     ]
    }
   ],
   "source": [
    "print(\"Shape of\")\n",
    "print(\"- training\",training.shape)\n",
    "print(\"- test\", test.shape)\n",
    "print(\"- train\", train.shape)"
   ]
  },
  {
   "cell_type": "markdown",
   "metadata": {},
   "source": [
    "### Data Preparation"
   ]
  },
  {
   "cell_type": "code",
   "execution_count": 102,
   "metadata": {},
   "outputs": [],
   "source": [
    "# dropping the recorded_by column because it only has 1 unique value for both Train and Test\n",
    "training = training.drop(['recorded_by'], axis=1)\n",
    "test = test.drop(['recorded_by'], axis=1)"
   ]
  },
  {
   "cell_type": "code",
   "execution_count": 103,
   "metadata": {},
   "outputs": [
    {
     "name": "stdout",
     "output_type": "stream",
     "text": [
      "features shape: (74250, 38)\n"
     ]
    }
   ],
   "source": [
    "features = pd.concat([training, test]).reset_index(drop=True)\n",
    "print(\"features shape:\", features.shape)"
   ]
  },
  {
   "cell_type": "code",
   "execution_count": 104,
   "metadata": {},
   "outputs": [
    {
     "name": "stdout",
     "output_type": "stream",
     "text": [
      "Overview of column types\n",
      "\n",
      "amount_tsh               float64\n",
      "date_recorded             object\n",
      "funder                    object\n",
      "gps_height                 int64\n",
      "installer                 object\n",
      "longitude                float64\n",
      "latitude                 float64\n",
      "wpt_name                  object\n",
      "num_private                int64\n",
      "basin                     object\n",
      "subvillage                object\n",
      "region                    object\n",
      "region_code                int64\n",
      "district_code              int64\n",
      "lga                       object\n",
      "ward                      object\n",
      "population                 int64\n",
      "public_meeting            object\n",
      "scheme_management         object\n",
      "scheme_name               object\n",
      "permit                    object\n",
      "construction_year          int64\n",
      "extraction_type           object\n",
      "extraction_type_group     object\n",
      "extraction_type_class     object\n",
      "management                object\n",
      "management_group          object\n",
      "payment                   object\n",
      "payment_type              object\n",
      "water_quality             object\n",
      "quality_group             object\n",
      "quantity                  object\n",
      "quantity_group            object\n",
      "source                    object\n",
      "source_type               object\n",
      "source_class              object\n",
      "waterpoint_type           object\n",
      "waterpoint_type_group     object\n",
      "dtype: object\n"
     ]
    }
   ],
   "source": [
    "print(\"Overview of column types\")\n",
    "print('')\n",
    "print(features.dtypes)"
   ]
  },
  {
   "cell_type": "markdown",
   "metadata": {},
   "source": [
    "### Feature Engineering"
   ]
  },
  {
   "cell_type": "markdown",
   "metadata": {},
   "source": [
    "#### Dealing with NAs"
   ]
  },
  {
   "cell_type": "code",
   "execution_count": 105,
   "metadata": {},
   "outputs": [
    {
     "name": "stdout",
     "output_type": "stream",
     "text": [
      "                       0       1\n",
      "scheme_name        35258  object\n",
      "scheme_management   4846  object\n",
      "installer           4532  object\n",
      "funder              4504  object\n",
      "public_meeting      4155  object\n",
      "permit              3793  object\n",
      "subvillage           470  object\n",
      "There are 7 columns with missing values.\n"
     ]
    }
   ],
   "source": [
    "# chunk of code that Laurens used in the Kaggle House Prices competition\n",
    "nulls = np.sum(features.isnull())\n",
    "nullcols = nulls.loc[(nulls != 0)]\n",
    "dtypes = features.dtypes\n",
    "dtypes2 = dtypes.loc[(nulls != 0)]\n",
    "info = pd.concat([nullcols, dtypes2], axis=1).sort_values(by=0, ascending=False)\n",
    "print(info)\n",
    "print(\"There are\", len(nullcols), \"columns with missing values.\")"
   ]
  },
  {
   "cell_type": "code",
   "execution_count": 106,
   "metadata": {},
   "outputs": [],
   "source": [
    "# filling missing values with 'None' for the following features: funder, scheme_name, subvillage \n",
    "features.update(features['funder'].fillna('None'))\n",
    "features.update(features['scheme_name'].fillna('None'))\n",
    "features.update(features['subvillage'].fillna('None'))"
   ]
  },
  {
   "cell_type": "code",
   "execution_count": 107,
   "metadata": {},
   "outputs": [],
   "source": [
    "# filling missing values with median for: public_meeting, permit \n",
    "features.update(features['public_meeting'].fillna(features['public_meeting'].median()))\n",
    "features.update(features['permit'].fillna(features['permit'].median()))"
   ]
  },
  {
   "cell_type": "code",
   "execution_count": 108,
   "metadata": {},
   "outputs": [],
   "source": [
    "# filling missing values with mode for: installer, scheme_management\n",
    "features.update(features['installer'].fillna(features['installer'].mode()[0]))\n",
    "features.update(features['scheme_management'].fillna(features['scheme_management'].mode()[0]))"
   ]
  },
  {
   "cell_type": "markdown",
   "metadata": {
    "collapsed": true
   },
   "source": [
    "#### Other transformations"
   ]
  },
  {
   "cell_type": "code",
   "execution_count": 109,
   "metadata": {},
   "outputs": [],
   "source": [
    "# Replaced by MEDIAN\n",
    "\n",
    "# year 0 in: construction_year\n",
    "features['construction_year'].replace(to_replace=[0], \n",
    "                                      value = features['construction_year'].median(),\n",
    "                                      inplace=True)\n",
    "\n",
    "\n",
    "\n",
    "# Replaced by MODE\n",
    "\n",
    "# unkown value in: payment\n",
    "features['payment'].replace(to_replace=['unknown'], \n",
    "                                      value = features['payment'].mode(),\n",
    "                                      inplace=True)\n",
    "\n",
    "# unkown value in: water_quality\n",
    "features['water_quality'].replace(to_replace=['unknown'], \n",
    "                                      value = features['water_quality'].mode(),\n",
    "                                      inplace=True)\n",
    "\n",
    "# unkown value in: source_class\n",
    "features['source_class'].replace(to_replace=['unknown'], \n",
    "                                      value = features['source_class'].mode(),\n",
    "                                      inplace=True)\n",
    "\n",
    "# to check it worked well: list(set(features['source_class']))"
   ]
  },
  {
   "cell_type": "markdown",
   "metadata": {},
   "source": [
    "#### Creating some features"
   ]
  },
  {
   "cell_type": "code",
   "execution_count": 110,
   "metadata": {},
   "outputs": [
    {
     "name": "stdout",
     "output_type": "stream",
     "text": [
      "Data type of date_recorded is: object\n"
     ]
    }
   ],
   "source": [
    "print(\"Data type of date_recorded is:\", features['date_recorded'].dtype)\n",
    "# so we need to convert a datetime to an integer to make some features"
   ]
  },
  {
   "cell_type": "code",
   "execution_count": 111,
   "metadata": {
    "scrolled": true
   },
   "outputs": [
    {
     "name": "stdout",
     "output_type": "stream",
     "text": [
      "type of 'date_recorded' : datetime64[ns]\n"
     ]
    }
   ],
   "source": [
    "# setting date_recorded as datetime type\n",
    "features['date_recorded'] = pd.to_datetime(features['date_recorded'], format='%Y-%m-%d')\n",
    "print(\"type of 'date_recorded' :\", features['date_recorded'].dtype)\n",
    "\n",
    "# creating a feature: year_recorded\n",
    "features['year_recorded'] = features['date_recorded'].dt.year"
   ]
  },
  {
   "cell_type": "code",
   "execution_count": 112,
   "metadata": {},
   "outputs": [],
   "source": [
    "# time how many years the pump has been in activity at the recorded date\n",
    "features['years_activity_when_rec'] = (features['year_recorded'] - features['construction_year'])\n",
    "features['years_activity_when_rec'] = features['years_activity_when_rec'].astype(int)"
   ]
  },
  {
   "cell_type": "code",
   "execution_count": 113,
   "metadata": {},
   "outputs": [],
   "source": [
    "# I drop 'subvillage' as it has too many classes and would add mostly noise to the model. It is just a more granular version \n",
    "# of 'region'\n",
    "features = features.drop(\"subvillage\", axis = 1)"
   ]
  },
  {
   "cell_type": "code",
   "execution_count": 114,
   "metadata": {},
   "outputs": [],
   "source": [
    "# creating a new feature to have the number of years since last time records happened\n",
    "from datetime import datetime\n",
    "now = datetime.now()\n",
    "for i in range(len(features['date_recorded'])):\n",
    "    features.loc[i,'last_recorded'] = (now - features.loc[i,'date_recorded']).days\n",
    "features['last_recorded'] = features['last_recorded'].astype(int)"
   ]
  },
  {
   "cell_type": "code",
   "execution_count": 115,
   "metadata": {},
   "outputs": [
    {
     "data": {
      "text/plain": [
       "0.0    -7.0\n",
       "0.1     3.0\n",
       "0.2     6.0\n",
       "0.3    11.0\n",
       "0.4    16.0\n",
       "0.5    25.0\n",
       "0.6    25.0\n",
       "0.7    25.0\n",
       "0.8    26.0\n",
       "0.9    31.0\n",
       "1.0    53.0\n",
       "Name: years_activity_when_rec, dtype: float64"
      ]
     },
     "execution_count": 115,
     "metadata": {},
     "output_type": "execute_result"
    },
    {
     "data": {
      "image/png": "[encoded data removed]",
      "text/plain": [
       "<Figure size 432x288 with 1 Axes>"
      ]
     },
     "metadata": {},
     "output_type": "display_data"
    }
   ],
   "source": [
    "# checking some irregularities\n",
    "import matplotlib.pyplot as plt\n",
    "%matplotlib inline  \n",
    "\n",
    "plt.boxplot(features.years_activity_when_rec)\n",
    "features.years_activity_when_rec.quantile([0, 0.1, 0.2, 0.3, 0.4, 0.5, 0.6, 0.7, 0.8, 0.9, 1])"
   ]
  },
  {
   "cell_type": "code",
   "execution_count": 116,
   "metadata": {},
   "outputs": [
    {
     "name": "stderr",
     "output_type": "stream",
     "text": [
      "Exception ignored in: <bound method DMatrix.__del__ of <xgboost.core.DMatrix object at 0x0000025E6D32DF98>>\n",
      "Traceback (most recent call last):\n",
      "  File \"C:\\Users\\lramp\\Anaconda3\\lib\\site-packages\\xgboost\\core.py\", line 366, in __del__\n",
      "    if self.handle is not None:\n",
      "AttributeError: 'DMatrix' object has no attribute 'handle'\n",
      "C:\\Users\\lramp\\Anaconda3\\lib\\site-packages\\ipykernel_launcher.py:2: SettingWithCopyWarning: \n",
      "A value is trying to be set on a copy of a slice from a DataFrame\n",
      "\n",
      "See the caveats in the documentation: http://pandas.pydata.org/pandas-docs/stable/indexing.html#indexing-view-versus-copy\n",
      "  \n"
     ]
    }
   ],
   "source": [
    "# we shouldn't have negative values, so let's input 0.\n",
    "features['years_activity_when_rec'][features['years_activity_when_rec'] < 0] = 0"
   ]
  },
  {
   "cell_type": "markdown",
   "metadata": {},
   "source": [
    "#### Rescaling some numerical features"
   ]
  },
  {
   "cell_type": "code",
   "execution_count": 117,
   "metadata": {},
   "outputs": [
    {
     "name": "stderr",
     "output_type": "stream",
     "text": [
      "C:\\Users\\lramp\\Anaconda3\\lib\\site-packages\\sklearn\\utils\\validation.py:475: DataConversionWarning: Data with input dtype int64 was converted to float64 by MinMaxScaler.\n",
      "  warnings.warn(msg, DataConversionWarning)\n",
      "C:\\Users\\lramp\\Anaconda3\\lib\\site-packages\\sklearn\\utils\\validation.py:475: DataConversionWarning: Data with input dtype int32 was converted to float64 by MinMaxScaler.\n",
      "  warnings.warn(msg, DataConversionWarning)\n"
     ]
    }
   ],
   "source": [
    "from sklearn.preprocessing import MinMaxScaler\n",
    "scaler = MinMaxScaler()\n",
    "\n",
    "features_to_rescale = ['population', 'amount_tsh', 'gps_height', 'longitude', 'latitude', 'last_recorded', \n",
    "                       'years_activity_when_rec']\n",
    "\n",
    "for i in features_to_rescale:\n",
    "    features[i] = scaler.fit_transform(features[i].values.reshape(-1,1))"
   ]
  },
  {
   "cell_type": "markdown",
   "metadata": {},
   "source": [
    "#### Encoding categorical values"
   ]
  },
  {
   "cell_type": "code",
   "execution_count": 118,
   "metadata": {},
   "outputs": [],
   "source": [
    "# label encoder should be preferred over One-Hot encoding, as we are going to use Random Forest for modeling\n",
    "from sklearn.preprocessing import LabelEncoder\n",
    "\n",
    "features_to_encode = ['date_recorded', 'year_recorded', 'years_activity_when_rec', 'funder', 'installer', 'wpt_name', \n",
    "                      'basin', 'region','region_code', 'district_code','lga', 'ward', 'public_meeting', 'scheme_management', \n",
    "                      'scheme_name', 'permit', 'extraction_type', 'extraction_type_group', 'extraction_type_group', \n",
    "                      'extraction_type_class', 'management', 'management_group', 'payment', 'payment_type', 'water_quality', \n",
    "                      'quality_group', 'quantity', 'quantity_group', 'source','source_type', 'source_class', 'waterpoint_type', \n",
    "                      'waterpoint_type_group', 'num_private']\n",
    "\n",
    "\n",
    "cols = features_to_encode\n",
    "for c in cols:\n",
    "    lbl = LabelEncoder() \n",
    "    lbl.fit(list(features[c].values)) \n",
    "    features[c] = lbl.transform(list(features[c].values))"
   ]
  },
  {
   "cell_type": "code",
   "execution_count": 119,
   "metadata": {},
   "outputs": [
    {
     "name": "stdout",
     "output_type": "stream",
     "text": [
      "(59400, 40)\n",
      "(14850, 40)\n",
      "Good, both dimensions are coherent.\n"
     ]
    }
   ],
   "source": [
    "# we have to split again the data between train and test\n",
    "X = features.iloc[:len(train),:]\n",
    "testing_features = features.iloc[len(X):,:]\n",
    "\n",
    "print(X.shape)\n",
    "print(testing_features.shape)\n",
    "print(\"Good, both dimensions are coherent.\")"
   ]
  },
  {
   "cell_type": "markdown",
   "metadata": {},
   "source": [
    "#### Dealing with outliers"
   ]
  },
  {
   "cell_type": "code",
   "execution_count": 120,
   "metadata": {},
   "outputs": [],
   "source": [
    "from sklearn.neighbors import LocalOutlierFactor"
   ]
  },
  {
   "cell_type": "code",
   "execution_count": 121,
   "metadata": {},
   "outputs": [],
   "source": [
    "detector = LocalOutlierFactor(n_neighbors=20, contamination=0.0001, n_jobs=3)\n",
    "outliers_predictions = detector.fit_predict(X)"
   ]
  },
  {
   "cell_type": "code",
   "execution_count": 122,
   "metadata": {},
   "outputs": [
    {
     "name": "stdout",
     "output_type": "stream",
     "text": [
      "number of outliers to remove: 6\n"
     ]
    }
   ],
   "source": [
    "outliers = []\n",
    "for index, value in enumerate(outliers_predictions):\n",
    "     if value == -1:\n",
    "        outliers.append(index)\n",
    "print('number of outliers to remove:', len(outliers))"
   ]
  },
  {
   "cell_type": "code",
   "execution_count": 123,
   "metadata": {},
   "outputs": [
    {
     "name": "stdout",
     "output_type": "stream",
     "text": [
      "(59400, 40)\n",
      "(59400, 1)\n"
     ]
    }
   ],
   "source": [
    "print(X.shape)\n",
    "print(y.shape)"
   ]
  },
  {
   "cell_type": "code",
   "execution_count": 124,
   "metadata": {},
   "outputs": [
    {
     "name": "stdout",
     "output_type": "stream",
     "text": [
      "(59394, 40)\n",
      "(59394, 1)\n"
     ]
    }
   ],
   "source": [
    "# removing them\n",
    "X = X.drop(X.index[outliers])\n",
    "y = y.drop(y.index[outliers])\n",
    "print(X.shape)\n",
    "print(y.shape)"
   ]
  },
  {
   "cell_type": "markdown",
   "metadata": {
    "collapsed": true
   },
   "source": [
    "### Modeling - Random Forest with StratifiedKFold"
   ]
  },
  {
   "cell_type": "code",
   "execution_count": 31,
   "metadata": {},
   "outputs": [],
   "source": [
    "# importing libraries\n",
    "from sklearn.model_selection import StratifiedKFold, cross_val_score, RandomizedSearchCV\n",
    "from sklearn.ensemble import RandomForestClassifier"
   ]
  },
  {
   "cell_type": "code",
   "execution_count": 32,
   "metadata": {},
   "outputs": [
    {
     "name": "stdout",
     "output_type": "stream",
     "text": [
      "Fitting 5 folds for each of 10 candidates, totalling 50 fits\n"
     ]
    },
    {
     "name": "stderr",
     "output_type": "stream",
     "text": [
      "[Parallel(n_jobs=-1)]: Done   5 tasks      | elapsed:  5.7min\n",
      "[Parallel(n_jobs=-1)]: Done  10 tasks      | elapsed:  8.5min\n",
      "[Parallel(n_jobs=-1)]: Done  17 tasks      | elapsed: 14.1min\n",
      "[Parallel(n_jobs=-1)]: Done  24 tasks      | elapsed: 17.4min\n",
      "[Parallel(n_jobs=-1)]: Done  33 tasks      | elapsed: 27.4min\n",
      "[Parallel(n_jobs=-1)]: Done  42 tasks      | elapsed: 34.5min\n",
      "[Parallel(n_jobs=-1)]: Done  50 out of  50 | elapsed: 40.6min finished\n"
     ]
    },
    {
     "data": {
      "text/plain": [
       "RandomizedSearchCV(cv=StratifiedKFold(n_splits=5, random_state=None, shuffle=False),\n",
       "          error_score='raise',\n",
       "          estimator=RandomForestClassifier(bootstrap=True, class_weight=None, criterion='gini',\n",
       "            max_depth=None, max_features='auto', max_leaf_nodes=None,\n",
       "            min_impurity_decrease=0.0, min_impurity_split=None,\n",
       "            min_samples_leaf=1, min_samples_split=2,\n",
       "            min_weight_fraction_leaf=0.0, n_estimators=10, n_jobs=1,\n",
       "            oob_score=False, random_state=None, verbose=0,\n",
       "            warm_start=False),\n",
       "          fit_params=None, iid=True, n_iter=10, n_jobs=-1,\n",
       "          param_distributions={'min_samples_split': [5, 10], 'n_estimators': [1000, 1200], 'max_features': ['auto', 'sqrt'], 'max_depth': [30, 60, 90]},\n",
       "          pre_dispatch='2*n_jobs', random_state=42, refit=True,\n",
       "          return_train_score='warn', scoring=None, verbose=10)"
      ]
     },
     "execution_count": 32,
     "metadata": {},
     "output_type": "execute_result"
    }
   ],
   "source": [
    "## From Jina's code\n",
    "# create StratifiedKFold instance\n",
    "skf = StratifiedKFold(5)\n",
    "\n",
    "# Use randomizedsearchcv to find the best parameters\n",
    "rf = RandomForestClassifier(criterion =  'gini', bootstrap = True)\n",
    "rf_random = RandomizedSearchCV(estimator = rf, param_distributions = {'min_samples_split': [5, 10],\n",
    "                                                 'n_estimators': [1000,1200],\n",
    "                                                 'max_features': ['auto', 'sqrt'],\n",
    "                                                 'max_depth': [30, 60, 90]}, \n",
    "                               cv = skf, verbose=10, random_state=42, n_jobs = -1)\n",
    "\n",
    "# Fit the random search model\n",
    "rf_random.fit(X, y.values.ravel())"
   ]
  },
  {
   "cell_type": "code",
   "execution_count": 33,
   "metadata": {},
   "outputs": [
    {
     "data": {
      "text/plain": [
       "RandomForestClassifier(bootstrap=True, class_weight=None, criterion='gini',\n",
       "            max_depth=30, max_features='sqrt', max_leaf_nodes=None,\n",
       "            min_impurity_decrease=0.0, min_impurity_split=None,\n",
       "            min_samples_leaf=1, min_samples_split=5,\n",
       "            min_weight_fraction_leaf=0.0, n_estimators=1200, n_jobs=1,\n",
       "            oob_score=False, random_state=None, verbose=0,\n",
       "            warm_start=False)"
      ]
     },
     "execution_count": 33,
     "metadata": {},
     "output_type": "execute_result"
    }
   ],
   "source": [
    "# retrieve the best estimator\n",
    "rf_tuned = rf_random.best_estimator_\n",
    "rf_tuned"
   ]
  },
  {
   "cell_type": "code",
   "execution_count": 34,
   "metadata": {},
   "outputs": [
    {
     "name": "stdout",
     "output_type": "stream",
     "text": [
      "[CV]  ................................................................\n",
      "[CV] ........................ , score=0.819949494949495, total= 1.9min\n"
     ]
    },
    {
     "name": "stderr",
     "output_type": "stream",
     "text": [
      "[Parallel(n_jobs=1)]: Done   1 out of   1 | elapsed:  1.9min remaining:    0.0s\n"
     ]
    },
    {
     "name": "stdout",
     "output_type": "stream",
     "text": [
      "[CV]  ................................................................\n",
      "[CV] ....................... , score=0.8123737373737374, total= 1.9min\n"
     ]
    },
    {
     "name": "stderr",
     "output_type": "stream",
     "text": [
      "[Parallel(n_jobs=1)]: Done   2 out of   2 | elapsed:  3.7min remaining:    0.0s\n"
     ]
    },
    {
     "name": "stdout",
     "output_type": "stream",
     "text": [
      "[CV]  ................................................................\n",
      "[CV] ....................... , score=0.8152201363751157, total= 1.9min\n"
     ]
    },
    {
     "name": "stderr",
     "output_type": "stream",
     "text": [
      "[Parallel(n_jobs=1)]: Done   3 out of   3 | elapsed:  5.6min remaining:    0.0s\n"
     ]
    },
    {
     "name": "stdout",
     "output_type": "stream",
     "text": [
      "[CV]  ................................................................\n",
      "[CV] ....................... , score=0.8123421451422799, total= 1.9min\n"
     ]
    },
    {
     "name": "stderr",
     "output_type": "stream",
     "text": [
      "[Parallel(n_jobs=1)]: Done   4 out of   4 | elapsed:  7.4min remaining:    0.0s\n"
     ]
    },
    {
     "name": "stdout",
     "output_type": "stream",
     "text": [
      "[CV]  ................................................................\n",
      "[CV] ........................ , score=0.815694198871769, total= 1.9min\n"
     ]
    },
    {
     "name": "stderr",
     "output_type": "stream",
     "text": [
      "[Parallel(n_jobs=1)]: Done   5 out of   5 | elapsed:  9.3min finished\n"
     ]
    }
   ],
   "source": [
    "# get cross validated score using best estimator\n",
    "rf_tuned_acc = cross_val_score(rf_tuned, X, y.values.ravel(), cv = skf, scoring = 'accuracy', verbose = 5)"
   ]
  },
  {
   "cell_type": "code",
   "execution_count": 35,
   "metadata": {},
   "outputs": [
    {
     "name": "stdout",
     "output_type": "stream",
     "text": [
      "average cross validated accuracy score: 0.8151159425424794\n"
     ]
    }
   ],
   "source": [
    "print(\"average cross validated accuracy score:\",np.mean(rf_tuned_acc))"
   ]
  },
  {
   "cell_type": "code",
   "execution_count": 87,
   "metadata": {},
   "outputs": [
    {
     "data": {
      "text/plain": [
       "['rf_tuned.pkl']"
      ]
     },
     "execution_count": 87,
     "metadata": {},
     "output_type": "execute_result"
    }
   ],
   "source": [
    "# exporting the model\n",
    "from sklearn.externals import joblib\n",
    "joblib.dump(rf_tuned, \"rf_tuned.pkl\")"
   ]
  },
  {
   "cell_type": "code",
   "execution_count": 125,
   "metadata": {},
   "outputs": [],
   "source": [
    "# importing the model back\n",
    "from sklearn.externals import joblib\n",
    "rf_tuned_imported = joblib.load(\"rf_tuned.pkl\")"
   ]
  },
  {
   "cell_type": "markdown",
   "metadata": {},
   "source": [
    "### Prediction Random Forest"
   ]
  },
  {
   "cell_type": "code",
   "execution_count": 36,
   "metadata": {},
   "outputs": [],
   "source": [
    "# fit data to model and predict using test data\n",
    "rf_tuned_imported.fit(X, y.values.ravel()) # or rf_tuned_imported.fit\n",
    "prediction = rf_tuned.predict(testing_features) # same, _imported"
   ]
  },
  {
   "cell_type": "code",
   "execution_count": 37,
   "metadata": {},
   "outputs": [],
   "source": [
    "#prediction = rf_tuned.fit(X, y.values.ravel()).predict(testing_features)\n",
    "submission = pd.DataFrame()\n",
    "submission['id'] = test_id\n",
    "submission['status_group'] = prediction\n",
    "\n",
    "submission.to_csv(\"Pump_it_up_Random_Forest_submission.csv\",index = False)"
   ]
  },
  {
   "cell_type": "markdown",
   "metadata": {},
   "source": [
    "### Score Random Forest: "
   ]
  },
  {
   "cell_type": "code",
   "execution_count": 38,
   "metadata": {},
   "outputs": [
    {
     "data": {
      "image/jpeg": "[encoded data removed]",
      "text/plain": [
       "<IPython.core.display.Image object>"
      ]
     },
     "execution_count": 38,
     "metadata": {
      "image/jpeg": {
       "width": "500"
      }
     },
     "output_type": "execute_result"
    }
   ],
   "source": [
    "from IPython.display import Image\n",
    "Image(filename='Score RF.jpg',width=\"500\")"
   ]
  },
  {
   "cell_type": "markdown",
   "metadata": {},
   "source": [
    "### Modeling - XGBoost with Bayesian Optimization"
   ]
  },
  {
   "cell_type": "code",
   "execution_count": 39,
   "metadata": {},
   "outputs": [
    {
     "name": "stdout",
     "output_type": "stream",
     "text": [
      "['functional' 'functional needs repair' 'non functional']\n"
     ]
    },
    {
     "name": "stderr",
     "output_type": "stream",
     "text": [
      "C:\\Users\\lramp\\Anaconda3\\lib\\site-packages\\sklearn\\preprocessing\\label.py:95: DataConversionWarning: A column-vector y was passed when a 1d array was expected. Please change the shape of y to (n_samples, ), for example using ravel().\n",
      "  y = column_or_1d(y, warn=True)\n",
      "C:\\Users\\lramp\\Anaconda3\\lib\\site-packages\\sklearn\\preprocessing\\label.py:128: DataConversionWarning: A column-vector y was passed when a 1d array was expected. Please change the shape of y to (n_samples, ), for example using ravel().\n",
      "  y = column_or_1d(y, warn=True)\n"
     ]
    },
    {
     "data": {
      "text/plain": [
       "array([0, 0, 0, 2, 0, 0, 2, 2, 2, 0], dtype=int64)"
      ]
     },
     "metadata": {},
     "output_type": "display_data"
    }
   ],
   "source": [
    "#Encoding status_group of train to pass it through our models\n",
    "#y = Y_training.status_group\n",
    "LEncoder = LabelEncoder()\n",
    "LEncoder.fit(y)\n",
    "labels = LEncoder.transform(y)\n",
    "print(LEncoder.classes_)\n",
    "\n",
    "display(labels[:10])"
   ]
  },
  {
   "cell_type": "code",
   "execution_count": 40,
   "metadata": {},
   "outputs": [
    {
     "name": "stderr",
     "output_type": "stream",
     "text": [
      "C:\\Users\\lramp\\Anaconda3\\lib\\site-packages\\sklearn\\cross_validation.py:41: DeprecationWarning: This module was deprecated in version 0.18 in favor of the model_selection module into which all the refactored classes and functions are moved. Also note that the interface of the new CV iterators are different from that of this module. This module will be removed in 0.20.\n",
      "  \"This module will be removed in 0.20.\", DeprecationWarning)\n"
     ]
    }
   ],
   "source": [
    "from sklearn.cross_validation import cross_val_score as cv_s\n",
    "from bayes_opt import BayesianOptimization as BayesOpt\n",
    "import xgboost as xgb\n",
    "\n",
    "# in the Cloud, use\n",
    "#!pip install numpy scipy scikit-learn bayesian-optimization\n",
    "#from bayes_opt import BayesianOptimization as BayesOpt\n",
    "# link used to find the library http://philipperemy.github.io/visualization/"
   ]
  },
  {
   "cell_type": "code",
   "execution_count": 41,
   "metadata": {},
   "outputs": [],
   "source": [
    "# Setting up the bayesian-optimization\n",
    "# Comment out any parameter you don't want to test\n",
    "\n",
    "def xgbcv(max_depth,  \n",
    "          learning_rate, \n",
    "          n_estimators,\n",
    "          min_child_weight,\n",
    "          gamma,\n",
    "          subsample,\n",
    "          colsample_bytree,\n",
    "          reg_alpha, \n",
    "          reg_lambda,\n",
    "          silent=True):\n",
    "    return cv_s(xgb.XGBClassifier(max_depth=int(max_depth),\n",
    "                                 learning_rate=learning_rate,\n",
    "                                 n_estimators=int(n_estimators),\n",
    "                                 gamma=gamma,\n",
    "                                 reg_alpha=reg_alpha,\n",
    "                                 min_child_weight=min_child_weight,\n",
    "                                 objective='multi:softmax'),\n",
    "                    X,\n",
    "                    labels,\n",
    "                    \"accuracy\",\n",
    "                    cv=4).mean() \n",
    "\n",
    "##Setting range of parameters for optimization\n",
    "xgboostBO = BayesOpt(xgbcv,\n",
    "                                 {\n",
    "                                  'max_depth': (7,23),\n",
    "                                  'learning_rate': (0.01, 0.2),\n",
    "                                  'n_estimators': (200,600),\n",
    "                                  'gamma': (0.01, 10),\n",
    "                                  'min_child_weight': (1,40),\n",
    "                                  'subsample': (0.2, 1),\n",
    "                                  'colsample_bytree' :(0.2, 1),\n",
    "                                  'reg_alpha':(0, 10),\n",
    "                                  'reg_lambda':(0, 10)\n",
    "                                  })"
   ]
  },
  {
   "cell_type": "markdown",
   "metadata": {},
   "source": [
    "##### Chunk of code used to find best parameters in Google Cloud"
   ]
  },
  {
   "cell_type": "code",
   "execution_count": 42,
   "metadata": {},
   "outputs": [],
   "source": [
    "#print (\"Start Optimization of XGBoost Model\")\n",
    "\n",
    "#import warnings\n",
    "#with warnings.catch_warnings():\n",
    "#    warnings.filterwarnings('ignore')\n",
    "#    xgboostBO.maximize(init_points=10,n_iter=110, xi=0.0,  acq=\"poi\")"
   ]
  },
  {
   "cell_type": "markdown",
   "metadata": {},
   "source": [
    "##### Among best parameters, there was:\n",
    "\n",
    " Step |   Time |      Value |   colsample_bytree |     gamma |   learning_rate |   max_depth |   min_child_weight |   n_estimators |   reg_alpha |   reg_lambda |   subsample | \n",
    "   \n",
    "   16 | 08m40s |    0.80978 |             0.2421 |    1.1838 |          0.1843 |     12.3736 |             1.1236 |       844.5854 |      0.5786 |       3.2621 |      0.3000 | \n",
    "   \n",
    "   26 | 07m22s |    0.80904 |             0.8317 |    0.2797 |          0.0491 |     15.9677 |            18.8218 |       584.5238 |      6.5628 |       2.9337 |      0.8397 | \n",
    "   \n",
    "   21 | 07m33s |    0.80902 |             0.7205 |    0.1300 |          0.0365 |     16.7366 |            22.1178 |       575.6791 |      7.2769 |       6.2152 |      0.8928 | \n",
    "    \n",
    "    \n",
    "The 3rd (last one) scored the best among these 3 when submitting. So I keep it as my best parameters"
   ]
  },
  {
   "cell_type": "code",
   "execution_count": 43,
   "metadata": {},
   "outputs": [],
   "source": [
    "# best parameters\n",
    "best_param = {\n",
    "    'colsample_bytree': 0.7205,\n",
    "    'gamma': 0.1300,\n",
    "    'learning_rate': 0.0365,\n",
    "    'max_depth' : 17,\n",
    "    'min_child_weight': 22.1178,\n",
    "    #'n_estimators': 575,  #mentioned as num_boost_round in xgb.train \n",
    "    'reg_alpha': 7.2769,\n",
    "    'reg_lambda': 6.2152,\n",
    "    'subsample': 0.8928,\n",
    "    'objective':'multi:softmax',\n",
    "    'num_class': 3,\n",
    "    'eval_metric': 'mlogloss',\n",
    "    'seed' : 17 }"
   ]
  },
  {
   "cell_type": "code",
   "execution_count": 44,
   "metadata": {},
   "outputs": [
    {
     "name": "stdout",
     "output_type": "stream",
     "text": [
      "(59394, 40)\n",
      "(59394,)\n"
     ]
    }
   ],
   "source": [
    "train_dmatrix = xgb.DMatrix(X, label=labels, missing=np.nan)\n",
    "print(X.shape)\n",
    "print(labels.shape)"
   ]
  },
  {
   "cell_type": "code",
   "execution_count": 45,
   "metadata": {},
   "outputs": [],
   "source": [
    "clf_XGB = xgb.train(best_param, dtrain=train_dmatrix, num_boost_round=575, maximize=False) # "
   ]
  },
  {
   "cell_type": "markdown",
   "metadata": {},
   "source": [
    "### Prediction XGBoost"
   ]
  },
  {
   "cell_type": "code",
   "execution_count": 46,
   "metadata": {},
   "outputs": [],
   "source": [
    "test_dmatrix = xgb.DMatrix(testing_features, missing=np.nan)\n",
    "prediction2 = clf_XGB.predict(test_dmatrix)"
   ]
  },
  {
   "cell_type": "code",
   "execution_count": 47,
   "metadata": {},
   "outputs": [
    {
     "name": "stderr",
     "output_type": "stream",
     "text": [
      "C:\\Users\\lramp\\Anaconda3\\lib\\site-packages\\sklearn\\preprocessing\\label.py:151: DeprecationWarning: The truth value of an empty array is ambiguous. Returning False, but in future this will result in an error. Use `array.size > 0` to check that an array is not empty.\n",
      "  if diff:\n"
     ]
    }
   ],
   "source": [
    "y_pred = LEncoder.inverse_transform(prediction2.astype(int))\n",
    "df = pd.DataFrame({'id': test_id, 'status_group': y_pred.ravel()})\n",
    "df.to_csv(\"Pump_it_up_XGB_submission.csv\",index = False)"
   ]
  },
  {
   "cell_type": "code",
   "execution_count": 48,
   "metadata": {},
   "outputs": [
    {
     "data": {
      "image/jpeg": "[encoded data removed]",
      "text/plain": [
       "<IPython.core.display.Image object>"
      ]
     },
     "execution_count": 48,
     "metadata": {
      "image/jpeg": {
       "width": "500"
      }
     },
     "output_type": "execute_result"
    }
   ],
   "source": [
    "Image(filename='Score XGB.jpg',width=\"500\")"
   ]
  },
  {
   "cell_type": "markdown",
   "metadata": {},
   "source": [
    "### Modeling - Ensemble method: Stacking RF & XGB (from Laurens notebook)"
   ]
  },
  {
   "cell_type": "code",
   "execution_count": 74,
   "metadata": {},
   "outputs": [],
   "source": [
    "# pip install mlxtend\n",
    "from xgboost import XGBClassifier\n",
    "from mlxtend.classifier import StackingCVClassifier\n",
    "\n",
    "## Here the previous XGB library on which I had run the hyperparameters can't work for StackingCVClassifier... \n",
    "## So i decided to use the XGB Classifier\n",
    "\n",
    "#clf1 = clf_XGB\n",
    "clf1 = XGBClassifier(colsample_bytree = 0.7205, \n",
    "                     gamma = 0.1300, \n",
    "                     learning_rate = 0.0365, \n",
    "                     max_depth = 17, \n",
    "                     min_child_weight = 22.1178, \n",
    "                     n_estimators = 575, \n",
    "                     reg_alpha = 7.2769,\n",
    "                     reg_lambda = 6.2152,\n",
    "                     subsample = 0.8928,\n",
    "                     objective = 'multi:softmax', \n",
    "                     num_class = 3, \n",
    "                     eval_metric = 'mlogloss')\n",
    " \n",
    "\n",
    "\n",
    "clf2 = rf_tuned\n",
    "\n",
    "stack_gen = StackingCVClassifier(classifiers=[clf1, clf2],\n",
    "                                meta_classifier=clf2, verbose=2,\n",
    "                                use_features_in_secondary=True)\n",
    "\n",
    "#prepare dfs\n",
    "stackX = np.array(X)\n",
    "stacky = np.array(labels)"
   ]
  },
  {
   "cell_type": "code",
   "execution_count": 75,
   "metadata": {},
   "outputs": [
    {
     "name": "stdout",
     "output_type": "stream",
     "text": [
      "Fitting 2 classifiers...\n",
      "Fitting classifier1: xgbclassifier (1/2)\n",
      "XGBClassifier(base_score=0.5, booster='gbtree', colsample_bylevel=1,\n",
      "       colsample_bytree=0.7205, eval_metric='mlogloss', gamma=0.13,\n",
      "       learning_rate=0.0365, max_delta_step=0, max_depth=17,\n",
      "       min_child_weight=22.1178, missing=None, n_estimators=575, n_jobs=1,\n",
      "       nthread=None, num_class=3, objective='multi:softmax',\n",
      "       random_state=0, reg_alpha=7.2769, reg_lambda=6.2152,\n",
      "       scale_pos_weight=1, seed=None, silent=True, subsample=0.8928)\n",
      "Training and fitting fold 1 of 2...\n"
     ]
    },
    {
     "name": "stderr",
     "output_type": "stream",
     "text": [
      "C:\\Users\\lramp\\Anaconda3\\lib\\site-packages\\sklearn\\preprocessing\\label.py:151: DeprecationWarning: The truth value of an empty array is ambiguous. Returning False, but in future this will result in an error. Use `array.size > 0` to check that an array is not empty.\n",
      "  if diff:\n"
     ]
    },
    {
     "name": "stdout",
     "output_type": "stream",
     "text": [
      "Training and fitting fold 2 of 2...\n"
     ]
    },
    {
     "name": "stderr",
     "output_type": "stream",
     "text": [
      "C:\\Users\\lramp\\Anaconda3\\lib\\site-packages\\sklearn\\preprocessing\\label.py:151: DeprecationWarning: The truth value of an empty array is ambiguous. Returning False, but in future this will result in an error. Use `array.size > 0` to check that an array is not empty.\n",
      "  if diff:\n"
     ]
    },
    {
     "name": "stdout",
     "output_type": "stream",
     "text": [
      "Fitting classifier2: randomforestclassifier (2/2)\n",
      "RandomForestClassifier(bootstrap=True, class_weight=None, criterion='gini',\n",
      "            max_depth=30, max_features='sqrt', max_leaf_nodes=None,\n",
      "            min_impurity_decrease=0.0, min_impurity_split=None,\n",
      "            min_samples_leaf=1, min_samples_split=5,\n",
      "            min_weight_fraction_leaf=0.0, n_estimators=1200, n_jobs=1,\n",
      "            oob_score=False, random_state=None, verbose=0,\n",
      "            warm_start=False)\n",
      "Training and fitting fold 1 of 2...\n",
      "Training and fitting fold 2 of 2...\n"
     ]
    }
   ],
   "source": [
    "stack_gen_model = stack_gen.fit(stackX, stacky)"
   ]
  },
  {
   "cell_type": "code",
   "execution_count": 76,
   "metadata": {},
   "outputs": [
    {
     "data": {
      "text/plain": [
       "['stack_model_rf&xgb.pkl']"
      ]
     },
     "execution_count": 76,
     "metadata": {},
     "output_type": "execute_result"
    }
   ],
   "source": [
    "# exporting the model\n",
    "from sklearn.externals import joblib\n",
    "joblib.dump(stack_gen_model, \"stack_model_rf&xgb.pkl\")"
   ]
  },
  {
   "cell_type": "code",
   "execution_count": 77,
   "metadata": {},
   "outputs": [],
   "source": [
    "# importing the model back\n",
    "from sklearn.externals import joblib\n",
    "stack_model_imported = joblib.load(\"stack_model_rf&xgb.pkl\")"
   ]
  },
  {
   "cell_type": "code",
   "execution_count": 78,
   "metadata": {},
   "outputs": [],
   "source": [
    "xgb_opt2 = stack_model_imported.clfs_[0]\n",
    "rf_stack = stack_model_imported.clfs_[1]"
   ]
  },
  {
   "cell_type": "code",
   "execution_count": 79,
   "metadata": {},
   "outputs": [
    {
     "data": {
      "text/plain": [
       "['xgb_opt2.pkl']"
      ]
     },
     "execution_count": 79,
     "metadata": {},
     "output_type": "execute_result"
    }
   ],
   "source": [
    "from sklearn.externals import joblib\n",
    "joblib.dump(xgb_opt2, \"xgb_opt2.pkl\")"
   ]
  },
  {
   "cell_type": "code",
   "execution_count": 80,
   "metadata": {},
   "outputs": [
    {
     "data": {
      "text/plain": [
       "StackingCVClassifier(classifiers=[XGBClassifier(base_score=0.5, booster='gbtree', colsample_bylevel=1,\n",
       "       colsample_bytree=0.7205, eval_metric='mlogloss', gamma=0.13,\n",
       "       learning_rate=0.0365, max_delta_step=0, max_depth=17,\n",
       "       min_child_weight=22.1178, missing=None, n_estimators=575, n_jobs=1,\n",
       "       nthread... n_jobs=1,\n",
       "            oob_score=False, random_state=None, verbose=0,\n",
       "            warm_start=False)],\n",
       "           cv=2,\n",
       "           meta_classifier=RandomForestClassifier(bootstrap=True, class_weight=None, criterion='gini',\n",
       "            max_depth=30, max_features='sqrt', max_leaf_nodes=None,\n",
       "            min_impurity_decrease=0.0, min_impurity_split=None,\n",
       "            min_samples_leaf=1, min_samples_split=5,\n",
       "            min_weight_fraction_leaf=0.0, n_estimators=1200, n_jobs=1,\n",
       "            oob_score=False, random_state=None, verbose=0,\n",
       "            warm_start=False),\n",
       "           shuffle=True, store_train_meta_features=False, stratify=True,\n",
       "           use_clones=True, use_features_in_secondary=True,\n",
       "           use_probas=False, verbose=2)"
      ]
     },
     "execution_count": 80,
     "metadata": {},
     "output_type": "execute_result"
    }
   ],
   "source": [
    "stack_gen_model"
   ]
  },
  {
   "cell_type": "code",
   "execution_count": 138,
   "metadata": {},
   "outputs": [
    {
     "name": "stderr",
     "output_type": "stream",
     "text": [
      "C:\\Users\\lramp\\Anaconda3\\lib\\site-packages\\sklearn\\preprocessing\\label.py:151: DeprecationWarning: The truth value of an empty array is ambiguous. Returning False, but in future this will result in an error. Use `array.size > 0` to check that an array is not empty.\n",
      "  if diff:\n"
     ]
    }
   ],
   "source": [
    "stack_gen_preds = stack_gen_model.predict(np.array(testing_features))"
   ]
  },
  {
   "cell_type": "code",
   "execution_count": 139,
   "metadata": {},
   "outputs": [
    {
     "data": {
      "text/html": [
       "<div>\n",
       "<style scoped>\n",
       "    .dataframe tbody tr th:only-of-type {\n",
       "        vertical-align: middle;\n",
       "    }\n",
       "\n",
       "    .dataframe tbody tr th {\n",
       "        vertical-align: top;\n",
       "    }\n",
       "\n",
       "    .dataframe thead th {\n",
       "        text-align: right;\n",
       "    }\n",
       "</style>\n",
       "<table border=\"1\" class=\"dataframe\">\n",
       "  <thead>\n",
       "    <tr style=\"text-align: right;\">\n",
       "      <th></th>\n",
       "      <th>0</th>\n",
       "    </tr>\n",
       "  </thead>\n",
       "  <tbody>\n",
       "    <tr>\n",
       "      <th>0</th>\n",
       "      <td>2</td>\n",
       "    </tr>\n",
       "    <tr>\n",
       "      <th>1</th>\n",
       "      <td>0</td>\n",
       "    </tr>\n",
       "    <tr>\n",
       "      <th>2</th>\n",
       "      <td>0</td>\n",
       "    </tr>\n",
       "  </tbody>\n",
       "</table>\n",
       "</div>"
      ],
      "text/plain": [
       "   0\n",
       "0  2\n",
       "1  0\n",
       "2  0"
      ]
     },
     "execution_count": 139,
     "metadata": {},
     "output_type": "execute_result"
    }
   ],
   "source": [
    "stack_gen_preds = pd.DataFrame(stack_gen_preds)\n",
    "stack_gen_preds.head(3)"
   ]
  },
  {
   "cell_type": "code",
   "execution_count": 142,
   "metadata": {},
   "outputs": [
    {
     "data": {
      "text/html": [
       "<div>\n",
       "<style scoped>\n",
       "    .dataframe tbody tr th:only-of-type {\n",
       "        vertical-align: middle;\n",
       "    }\n",
       "\n",
       "    .dataframe tbody tr th {\n",
       "        vertical-align: top;\n",
       "    }\n",
       "\n",
       "    .dataframe thead th {\n",
       "        text-align: right;\n",
       "    }\n",
       "</style>\n",
       "<table border=\"1\" class=\"dataframe\">\n",
       "  <thead>\n",
       "    <tr style=\"text-align: right;\">\n",
       "      <th></th>\n",
       "      <th>0</th>\n",
       "    </tr>\n",
       "  </thead>\n",
       "  <tbody>\n",
       "    <tr>\n",
       "      <th>0</th>\n",
       "      <td>non functional</td>\n",
       "    </tr>\n",
       "    <tr>\n",
       "      <th>1</th>\n",
       "      <td>functional</td>\n",
       "    </tr>\n",
       "    <tr>\n",
       "      <th>2</th>\n",
       "      <td>functional</td>\n",
       "    </tr>\n",
       "    <tr>\n",
       "      <th>3</th>\n",
       "      <td>non functional</td>\n",
       "    </tr>\n",
       "    <tr>\n",
       "      <th>4</th>\n",
       "      <td>functional</td>\n",
       "    </tr>\n",
       "  </tbody>\n",
       "</table>\n",
       "</div>"
      ],
      "text/plain": [
       "                0\n",
       "0  non functional\n",
       "1      functional\n",
       "2      functional\n",
       "3  non functional\n",
       "4      functional"
      ]
     },
     "execution_count": 142,
     "metadata": {},
     "output_type": "execute_result"
    }
   ],
   "source": [
    "stack_gen_preds[0] = stack_gen_preds[0].replace({0:\"functional\",\n",
    "                                                 1:\"functional needs repair\",\n",
    "                                                 2:\"non functional\"})\n",
    "stack_gen_preds.head()"
   ]
  },
  {
   "cell_type": "code",
   "execution_count": 144,
   "metadata": {},
   "outputs": [],
   "source": [
    "submission = pd.DataFrame()\n",
    "submission['id'] = test_id\n",
    "submission['status_group'] = stack_gen_preds\n",
    "\n",
    "submission.to_csv(\"Pump_it_up_Stacked_submission.csv\",index = False)"
   ]
  },
  {
   "cell_type": "markdown",
   "metadata": {},
   "source": [
    "The score is good, but not as good as Random Forest."
   ]
  },
  {
   "cell_type": "code",
   "execution_count": 146,
   "metadata": {},
   "outputs": [
    {
     "data": {
      "image/jpeg": "[encoded data removed]",
      "text/plain": [
       "<IPython.core.display.Image object>"
      ]
     },
     "execution_count": 146,
     "metadata": {
      "image/jpeg": {
       "width": "300"
      }
     },
     "output_type": "execute_result"
    }
   ],
   "source": [
    "Image(filename='Score stacked.jpg',width=\"300\")"
   ]
  },
  {
   "cell_type": "markdown",
   "metadata": {},
   "source": [
    "##### As a reminder, we have:\n",
    "##### - RF: 0.8231\n",
    "##### - XGB: 0.8211\n",
    "##### - Stacked: 0.8172"
   ]
  },
  {
   "cell_type": "markdown",
   "metadata": {},
   "source": [
    "Let's add a voting classifier to see if we can still improve our score"
   ]
  },
  {
   "cell_type": "markdown",
   "metadata": {},
   "source": [
    "### Voting classifier"
   ]
  },
  {
   "cell_type": "code",
   "execution_count": 153,
   "metadata": {},
   "outputs": [
    {
     "name": "stdout",
     "output_type": "stream",
     "text": [
      "XGB:\n",
      "XGBClassifier(base_score=0.5, booster='gbtree', colsample_bylevel=1,\n",
      "       colsample_bytree=0.7205, eval_metric='mlogloss', gamma=0.13,\n",
      "       learning_rate=0.0365, max_delta_step=0, max_depth=17,\n",
      "       min_child_weight=22.1178, missing=None, n_estimators=575, n_jobs=1,\n",
      "       nthread=None, num_class=3, objective='multi:softmax',\n",
      "       random_state=0, reg_alpha=7.2769, reg_lambda=6.2152,\n",
      "       scale_pos_weight=1, seed=None, silent=True, subsample=0.8928)\n",
      "RF:\n",
      "RandomForestClassifier(bootstrap=True, class_weight=None, criterion='gini',\n",
      "            max_depth=30, max_features='sqrt', max_leaf_nodes=None,\n",
      "            min_impurity_decrease=0.0, min_impurity_split=None,\n",
      "            min_samples_leaf=1, min_samples_split=5,\n",
      "            min_weight_fraction_leaf=0.0, n_estimators=1200, n_jobs=1,\n",
      "            oob_score=False, random_state=None, verbose=0,\n",
      "            warm_start=False)\n",
      "Stacked:\n",
      "StackingCVClassifier(classifiers=[XGBClassifier(base_score=0.5, booster='gbtree', colsample_bylevel=1,\n",
      "       colsample_bytree=0.7205, eval_metric='mlogloss', gamma=0.13,\n",
      "       learning_rate=0.0365, max_delta_step=0, max_depth=17,\n",
      "       min_child_weight=22.1178, missing=None, n_estimators=575, n_jobs=1,\n",
      "       nthread... n_jobs=1,\n",
      "            oob_score=False, random_state=None, verbose=0,\n",
      "            warm_start=False)],\n",
      "           cv=2,\n",
      "           meta_classifier=RandomForestClassifier(bootstrap=True, class_weight=None, criterion='gini',\n",
      "            max_depth=30, max_features='sqrt', max_leaf_nodes=None,\n",
      "            min_impurity_decrease=0.0, min_impurity_split=None,\n",
      "            min_samples_leaf=1, min_samples_split=5,\n",
      "            min_weight_fraction_leaf=0.0, n_estimators=1200, n_jobs=1,\n",
      "            oob_score=False, random_state=None, verbose=0,\n",
      "            warm_start=False),\n",
      "           shuffle=True, store_train_meta_features=False, stratify=True,\n",
      "           use_clones=True, use_features_in_secondary=True,\n",
      "           use_probas=False, verbose=2)\n",
      "Fitting 2 classifiers...\n"
     ]
    },
    {
     "name": "stderr",
     "output_type": "stream",
     "text": [
      "C:\\Users\\lramp\\Anaconda3\\lib\\site-packages\\sklearn\\preprocessing\\label.py:95: DataConversionWarning: A column-vector y was passed when a 1d array was expected. Please change the shape of y to (n_samples, ), for example using ravel().\n",
      "  y = column_or_1d(y, warn=True)\n",
      "C:\\Users\\lramp\\Anaconda3\\lib\\site-packages\\sklearn\\preprocessing\\label.py:128: DataConversionWarning: A column-vector y was passed when a 1d array was expected. Please change the shape of y to (n_samples, ), for example using ravel().\n",
      "  y = column_or_1d(y, warn=True)\n"
     ]
    },
    {
     "name": "stdout",
     "output_type": "stream",
     "text": [
      "Fitting classifier1: xgbclassifier (1/2)\n",
      "XGBClassifier(base_score=0.5, booster='gbtree', colsample_bylevel=1,\n",
      "       colsample_bytree=0.7205, eval_metric='mlogloss', gamma=0.13,\n",
      "       learning_rate=0.0365, max_delta_step=0, max_depth=17,\n",
      "       min_child_weight=22.1178, missing=None, n_estimators=575, n_jobs=1,\n",
      "       nthread=None, num_class=3, objective='multi:softmax',\n",
      "       random_state=0, reg_alpha=7.2769, reg_lambda=6.2152,\n",
      "       scale_pos_weight=1, seed=None, silent=True, subsample=0.8928)\n",
      "Training and fitting fold 1 of 2...\n"
     ]
    },
    {
     "name": "stderr",
     "output_type": "stream",
     "text": [
      "C:\\Users\\lramp\\Anaconda3\\lib\\site-packages\\sklearn\\preprocessing\\label.py:151: DeprecationWarning: The truth value of an empty array is ambiguous. Returning False, but in future this will result in an error. Use `array.size > 0` to check that an array is not empty.\n",
      "  if diff:\n"
     ]
    },
    {
     "name": "stdout",
     "output_type": "stream",
     "text": [
      "Training and fitting fold 2 of 2...\n"
     ]
    },
    {
     "name": "stderr",
     "output_type": "stream",
     "text": [
      "C:\\Users\\lramp\\Anaconda3\\lib\\site-packages\\sklearn\\preprocessing\\label.py:151: DeprecationWarning: The truth value of an empty array is ambiguous. Returning False, but in future this will result in an error. Use `array.size > 0` to check that an array is not empty.\n",
      "  if diff:\n"
     ]
    },
    {
     "name": "stdout",
     "output_type": "stream",
     "text": [
      "Fitting classifier2: randomforestclassifier (2/2)\n",
      "RandomForestClassifier(bootstrap=True, class_weight=None, criterion='gini',\n",
      "            max_depth=30, max_features='sqrt', max_leaf_nodes=None,\n",
      "            min_impurity_decrease=0.0, min_impurity_split=None,\n",
      "            min_samples_leaf=1, min_samples_split=5,\n",
      "            min_weight_fraction_leaf=0.0, n_estimators=1200, n_jobs=1,\n",
      "            oob_score=False, random_state=None, verbose=0,\n",
      "            warm_start=False)\n",
      "Training and fitting fold 1 of 2...\n",
      "Training and fitting fold 2 of 2...\n"
     ]
    }
   ],
   "source": [
    "from sklearn.ensemble import VotingClassifier\n",
    "\n",
    "clf3 = stack_gen\n",
    "\n",
    "print('XGB:')\n",
    "print(clf1)\n",
    "print('RF:')\n",
    "print(clf2)\n",
    "print('Stacked:')\n",
    "print(stack_gen)\n",
    "\n",
    "eclf = VotingClassifier(estimators = [('stackgen', clf3),\n",
    "                                      ('rf', clf2), ('xgb', clf1)],\n",
    "                       voting = 'soft', weights = [3,4,2])\n",
    "\n",
    "eclf_fit = eclf.fit(np.array(X), np.array(y))"
   ]
  },
  {
   "cell_type": "code",
   "execution_count": 154,
   "metadata": {},
   "outputs": [
    {
     "data": {
      "text/plain": [
       "['voting_clf.pkl']"
      ]
     },
     "execution_count": 154,
     "metadata": {},
     "output_type": "execute_result"
    }
   ],
   "source": [
    "from sklearn.externals import joblib\n",
    "joblib.dump(eclf_fit, \"voting_clf.pkl\")"
   ]
  },
  {
   "cell_type": "code",
   "execution_count": 155,
   "metadata": {},
   "outputs": [],
   "source": [
    "voting_clf  = joblib.load(\"voting_clf.pkl\")"
   ]
  },
  {
   "cell_type": "code",
   "execution_count": 156,
   "metadata": {},
   "outputs": [
    {
     "name": "stderr",
     "output_type": "stream",
     "text": [
      "C:\\Users\\lramp\\Anaconda3\\lib\\site-packages\\sklearn\\preprocessing\\label.py:151: DeprecationWarning: The truth value of an empty array is ambiguous. Returning False, but in future this will result in an error. Use `array.size > 0` to check that an array is not empty.\n",
      "  if diff:\n",
      "C:\\Users\\lramp\\Anaconda3\\lib\\site-packages\\sklearn\\preprocessing\\label.py:151: DeprecationWarning: The truth value of an empty array is ambiguous. Returning False, but in future this will result in an error. Use `array.size > 0` to check that an array is not empty.\n",
      "  if diff:\n"
     ]
    },
    {
     "data": {
      "text/plain": [
       "0.9265582382058793"
      ]
     },
     "execution_count": 156,
     "metadata": {},
     "output_type": "execute_result"
    }
   ],
   "source": [
    "voting_clf.score(np.array(X), np.array(y))"
   ]
  },
  {
   "cell_type": "code",
   "execution_count": 157,
   "metadata": {},
   "outputs": [
    {
     "name": "stderr",
     "output_type": "stream",
     "text": [
      "C:\\Users\\lramp\\Anaconda3\\lib\\site-packages\\sklearn\\preprocessing\\label.py:151: DeprecationWarning: The truth value of an empty array is ambiguous. Returning False, but in future this will result in an error. Use `array.size > 0` to check that an array is not empty.\n",
      "  if diff:\n",
      "C:\\Users\\lramp\\Anaconda3\\lib\\site-packages\\sklearn\\preprocessing\\label.py:151: DeprecationWarning: The truth value of an empty array is ambiguous. Returning False, but in future this will result in an error. Use `array.size > 0` to check that an array is not empty.\n",
      "  if diff:\n"
     ]
    }
   ],
   "source": [
    "voting_preds = voting_clf.predict(np.array(testing_features))"
   ]
  },
  {
   "cell_type": "code",
   "execution_count": 160,
   "metadata": {},
   "outputs": [
    {
     "data": {
      "text/html": [
       "<div>\n",
       "<style scoped>\n",
       "    .dataframe tbody tr th:only-of-type {\n",
       "        vertical-align: middle;\n",
       "    }\n",
       "\n",
       "    .dataframe tbody tr th {\n",
       "        vertical-align: top;\n",
       "    }\n",
       "\n",
       "    .dataframe thead th {\n",
       "        text-align: right;\n",
       "    }\n",
       "</style>\n",
       "<table border=\"1\" class=\"dataframe\">\n",
       "  <thead>\n",
       "    <tr style=\"text-align: right;\">\n",
       "      <th></th>\n",
       "      <th>0</th>\n",
       "    </tr>\n",
       "  </thead>\n",
       "  <tbody>\n",
       "    <tr>\n",
       "      <th>0</th>\n",
       "      <td>non functional</td>\n",
       "    </tr>\n",
       "    <tr>\n",
       "      <th>1</th>\n",
       "      <td>functional</td>\n",
       "    </tr>\n",
       "    <tr>\n",
       "      <th>2</th>\n",
       "      <td>functional</td>\n",
       "    </tr>\n",
       "    <tr>\n",
       "      <th>3</th>\n",
       "      <td>non functional</td>\n",
       "    </tr>\n",
       "    <tr>\n",
       "      <th>4</th>\n",
       "      <td>functional</td>\n",
       "    </tr>\n",
       "  </tbody>\n",
       "</table>\n",
       "</div>"
      ],
      "text/plain": [
       "                0\n",
       "0  non functional\n",
       "1      functional\n",
       "2      functional\n",
       "3  non functional\n",
       "4      functional"
      ]
     },
     "execution_count": 160,
     "metadata": {},
     "output_type": "execute_result"
    }
   ],
   "source": [
    "voting_preds = pd.DataFrame(voting_preds)\n",
    "voting_preds.head()"
   ]
  },
  {
   "cell_type": "code",
   "execution_count": 161,
   "metadata": {},
   "outputs": [],
   "source": [
    "submission = pd.DataFrame()\n",
    "submission['id'] = test_id\n",
    "submission['status_group'] = voting_preds\n",
    "\n",
    "submission.to_csv(\"Pump_it_up_Voting_submission.csv\",index = False)"
   ]
  },
  {
   "cell_type": "code",
   "execution_count": 163,
   "metadata": {},
   "outputs": [
    {
     "data": {
      "image/jpeg": "[encoded data removed]",
      "text/plain": [
       "<IPython.core.display.Image object>"
      ]
     },
     "execution_count": 163,
     "metadata": {
      "image/jpeg": {
       "width": "500"
      }
     },
     "output_type": "execute_result"
    }
   ],
   "source": [
    "Image(filename='Score Voting_clf.jpg',width=\"500\")"
   ]
  },
  {
   "cell_type": "markdown",
   "metadata": {},
   "source": [
    "## Final score: 0.8246\n",
    "## Top 1.39% of competitors"
   ]
  },
  {
   "cell_type": "markdown",
   "metadata": {},
   "source": [
    " "
   ]
  },
  {
   "cell_type": "markdown",
   "metadata": {},
   "source": [
    " "
   ]
  },
  {
   "cell_type": "markdown",
   "metadata": {},
   "source": [
    " "
   ]
  },
  {
   "cell_type": "markdown",
   "metadata": {},
   "source": [
    " "
   ]
  },
  {
   "cell_type": "markdown",
   "metadata": {},
   "source": [
    "#### ROC analysis - Random Forest (needed for an interview)"
   ]
  },
  {
   "cell_type": "code",
   "execution_count": 67,
   "metadata": {},
   "outputs": [],
   "source": [
    "from sklearn.metrics import roc_curve, auc\n",
    "from sklearn.multiclass import OneVsRestClassifier\n",
    "from sklearn.ensemble import RandomForestClassifier\n",
    "from sklearn.preprocessing import label_binarize\n",
    "from sklearn.cross_validation import train_test_split\n",
    "import matplotlib.pyplot as plt"
   ]
  },
  {
   "cell_type": "code",
   "execution_count": 68,
   "metadata": {},
   "outputs": [],
   "source": [
    "# multi-class classification\n",
    "y = label_binarize(y, classes=['functional','non functional','functional needs repair'])\n",
    "\n",
    "n_classes = 3"
   ]
  },
  {
   "cell_type": "code",
   "execution_count": 69,
   "metadata": {},
   "outputs": [],
   "source": [
    "# shuffle and split training and test sets\n",
    "X_train, X_test, y_train, y_test =\\\n",
    "    train_test_split(X, y, test_size=0.25, random_state=8)"
   ]
  },
  {
   "cell_type": "code",
   "execution_count": 70,
   "metadata": {},
   "outputs": [],
   "source": [
    "# Random Forest classifier\n",
    "clf = OneVsRestClassifier(RandomForestClassifier())\n",
    "y_score = clf.fit(X_train, y_train).predict(X_test)"
   ]
  },
  {
   "cell_type": "code",
   "execution_count": 71,
   "metadata": {},
   "outputs": [],
   "source": [
    "# Compute ROC curve and ROC area for each class\n",
    "fpr = dict()\n",
    "tpr = dict()\n",
    "roc_auc = dict()\n",
    "for i in range(n_classes):\n",
    "    fpr[i], tpr[i], _ = roc_curve(y_test[:, i], y_score[:, i])\n",
    "    roc_auc[i] = auc(fpr[i], tpr[i])"
   ]
  },
  {
   "cell_type": "code",
   "execution_count": 72,
   "metadata": {},
   "outputs": [
    {
     "data": {
      "image/png": "[encoded data removed]",
      "text/plain": [
       "<Figure size 432x288 with 1 Axes>"
      ]
     },
     "metadata": {},
     "output_type": "display_data"
    },
    {
     "data": {
      "image/png": "[encoded data removed]",
      "text/plain": [
       "<Figure size 432x288 with 1 Axes>"
      ]
     },
     "metadata": {},
     "output_type": "display_data"
    },
    {
     "data": {
      "image/png": "[encoded data removed]",
      "text/plain": [
       "<Figure size 432x288 with 1 Axes>"
      ]
     },
     "metadata": {},
     "output_type": "display_data"
    }
   ],
   "source": [
    "# Plot of a ROC curve for a specific class\n",
    "for i in range(n_classes):\n",
    "    plt.figure()\n",
    "    plt.plot(fpr[i], tpr[i], color='darkorange', label='ROC curve (area = %0.2f)' % roc_auc[i])\n",
    "    plt.plot([0, 1], [0, 1], 'k--')\n",
    "    plt.xlim([0.0, 1.0])\n",
    "    plt.ylim([0.0, 1.05])\n",
    "    plt.xlabel('False Positive Rate')\n",
    "    plt.ylabel('True Positive Rate')\n",
    "    plt.title('ROC example')\n",
    "    plt.legend(loc=\"lower right\")\n",
    "    plt.show()"
   ]
  },
  {
   "cell_type": "markdown",
   "metadata": {
    "collapsed": true
   },
   "source": [
    "J'ai utilisé 75% du dataset pour le training, et donc 25% pour le test.\n",
    "Il y en a 3, puisqu'il y en a 1 par label."
   ]
  },
  {
   "cell_type": "markdown",
   "metadata": {},
   "source": [
    "##### Pour les prédictions \"functional\"\n",
    "Bon ROC, suffisamment distant de la droite de référence c'est à dire de la random measure en pointillé.\n",
    "L'AUC (Area Under the Curve) est de 0.81 ce qui est convenable. \n",
    "Le ratio True Positive sur False Positive en \"début de courbe\" est satisfaisant (pour de la maintenance de pompes à eau...). Le modèle identifie donc bien un peu plus de 80% des pompes en état de marche, avec un bon ratio de 0.83/0.2 ."
   ]
  },
  {
   "cell_type": "markdown",
   "metadata": {},
   "source": [
    "##### Pour les prédictions \"non functional\" \n",
    "Le ROC est également bon pour ce label, avec une AUC supérieure à 0.83.\n",
    "Le True Positive Rate a un très bon ratio par rapport au False Positive Rate en \"début de courbe\". Cela signifie que le modèle identifie vraiment bien la majorité des True Positive. Ce ratio est vraiment bon."
   ]
  },
  {
   "cell_type": "markdown",
   "metadata": {},
   "source": [
    "##### Pour les prédictions \"functional needs repair\"\n",
    "Mauvais ROC , faible distinction par rapport à la droite de référence.\n",
    "Cela se ressent évidemment sur la AUC qui est à 0.64. Il est donc difficile de pronostiquer efficacement les pompes qui ont besoins de réparation.\n",
    "Seulement 30% des True Positives sont prédits avec une quasi-certitude. C'est très faible ! Au-delà le modèle converge vers la random measure.\n"
   ]
  }
 ],
 "metadata": {
  "kernelspec": {
   "display_name": "Python 3",
   "language": "python",
   "name": "python3"
  },
  "language_info": {
   "codemirror_mode": {
    "name": "ipython",
    "version": 3
   },
   "file_extension": ".py",
   "mimetype": "text/x-python",
   "name": "python",
   "nbconvert_exporter": "python",
   "pygments_lexer": "ipython3",
   "version": "3.6.5"
  }
 },
 "nbformat": 4,
 "nbformat_minor": 2
}
