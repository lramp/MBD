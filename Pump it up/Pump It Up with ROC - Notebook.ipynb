{
 "cells": [
  {
   "cell_type": "code",
   "execution_count": 1,
   "metadata": {
    "collapsed": true
   },
   "outputs": [],
   "source": [
    "# importing basic libraries\n",
    "import numpy as np\n",
    "import pandas as pd"
   ]
  },
  {
   "cell_type": "markdown",
   "metadata": {},
   "source": [
    "### Importing data"
   ]
  },
  {
   "cell_type": "code",
   "execution_count": 2,
   "metadata": {
    "collapsed": true
   },
   "outputs": [],
   "source": [
    "# loading the data\n",
    "training = pd.read_csv(\"Training.csv\")\n",
    "test = pd.read_csv(\"Test.csv\")\n",
    "Y_training = pd.read_csv('Y_Training.csv')"
   ]
  },
  {
   "cell_type": "code",
   "execution_count": 3,
   "metadata": {},
   "outputs": [
    {
     "name": "stdout",
     "output_type": "stream",
     "text": [
      "y shape: (59400, 1)\n"
     ]
    }
   ],
   "source": [
    "# getting labels\n",
    "y = Y_training.drop(['id'], axis=1)\n",
    "\n",
    "print(\"y shape:\",y.shape)\n",
    "\n",
    "# merging training and Y_training\n",
    "train = training.merge(Y_training, left_on='id', right_on='id', how='inner')"
   ]
  },
  {
   "cell_type": "markdown",
   "metadata": {},
   "source": [
    "### Data exploration & understanding"
   ]
  },
  {
   "cell_type": "code",
   "execution_count": 4,
   "metadata": {
    "scrolled": true
   },
   "outputs": [
    {
     "data": {
      "text/html": [
       "<div>\n",
       "<style>\n",
       "    .dataframe thead tr:only-child th {\n",
       "        text-align: right;\n",
       "    }\n",
       "\n",
       "    .dataframe thead th {\n",
       "        text-align: left;\n",
       "    }\n",
       "\n",
       "    .dataframe tbody tr th {\n",
       "        vertical-align: top;\n",
       "    }\n",
       "</style>\n",
       "<table border=\"1\" class=\"dataframe\">\n",
       "  <thead>\n",
       "    <tr style=\"text-align: right;\">\n",
       "      <th></th>\n",
       "      <th>id</th>\n",
       "      <th>amount_tsh</th>\n",
       "      <th>date_recorded</th>\n",
       "      <th>funder</th>\n",
       "      <th>gps_height</th>\n",
       "      <th>installer</th>\n",
       "      <th>longitude</th>\n",
       "      <th>latitude</th>\n",
       "      <th>wpt_name</th>\n",
       "      <th>num_private</th>\n",
       "      <th>...</th>\n",
       "      <th>water_quality</th>\n",
       "      <th>quality_group</th>\n",
       "      <th>quantity</th>\n",
       "      <th>quantity_group</th>\n",
       "      <th>source</th>\n",
       "      <th>source_type</th>\n",
       "      <th>source_class</th>\n",
       "      <th>waterpoint_type</th>\n",
       "      <th>waterpoint_type_group</th>\n",
       "      <th>status_group</th>\n",
       "    </tr>\n",
       "  </thead>\n",
       "  <tbody>\n",
       "    <tr>\n",
       "      <th>0</th>\n",
       "      <td>69572</td>\n",
       "      <td>6000.0</td>\n",
       "      <td>2011-03-14</td>\n",
       "      <td>Roman</td>\n",
       "      <td>1390</td>\n",
       "      <td>Roman</td>\n",
       "      <td>34.938093</td>\n",
       "      <td>-9.856322</td>\n",
       "      <td>none</td>\n",
       "      <td>0</td>\n",
       "      <td>...</td>\n",
       "      <td>soft</td>\n",
       "      <td>good</td>\n",
       "      <td>enough</td>\n",
       "      <td>enough</td>\n",
       "      <td>spring</td>\n",
       "      <td>spring</td>\n",
       "      <td>groundwater</td>\n",
       "      <td>communal standpipe</td>\n",
       "      <td>communal standpipe</td>\n",
       "      <td>functional</td>\n",
       "    </tr>\n",
       "    <tr>\n",
       "      <th>1</th>\n",
       "      <td>8776</td>\n",
       "      <td>0.0</td>\n",
       "      <td>2013-03-06</td>\n",
       "      <td>Grumeti</td>\n",
       "      <td>1399</td>\n",
       "      <td>GRUMETI</td>\n",
       "      <td>34.698766</td>\n",
       "      <td>-2.147466</td>\n",
       "      <td>Zahanati</td>\n",
       "      <td>0</td>\n",
       "      <td>...</td>\n",
       "      <td>soft</td>\n",
       "      <td>good</td>\n",
       "      <td>insufficient</td>\n",
       "      <td>insufficient</td>\n",
       "      <td>rainwater harvesting</td>\n",
       "      <td>rainwater harvesting</td>\n",
       "      <td>surface</td>\n",
       "      <td>communal standpipe</td>\n",
       "      <td>communal standpipe</td>\n",
       "      <td>functional</td>\n",
       "    </tr>\n",
       "    <tr>\n",
       "      <th>2</th>\n",
       "      <td>34310</td>\n",
       "      <td>25.0</td>\n",
       "      <td>2013-02-25</td>\n",
       "      <td>Lottery Club</td>\n",
       "      <td>686</td>\n",
       "      <td>World vision</td>\n",
       "      <td>37.460664</td>\n",
       "      <td>-3.821329</td>\n",
       "      <td>Kwa Mahundi</td>\n",
       "      <td>0</td>\n",
       "      <td>...</td>\n",
       "      <td>soft</td>\n",
       "      <td>good</td>\n",
       "      <td>enough</td>\n",
       "      <td>enough</td>\n",
       "      <td>dam</td>\n",
       "      <td>dam</td>\n",
       "      <td>surface</td>\n",
       "      <td>communal standpipe multiple</td>\n",
       "      <td>communal standpipe</td>\n",
       "      <td>functional</td>\n",
       "    </tr>\n",
       "  </tbody>\n",
       "</table>\n",
       "<p>3 rows × 41 columns</p>\n",
       "</div>"
      ],
      "text/plain": [
       "      id  amount_tsh date_recorded        funder  gps_height     installer  \\\n",
       "0  69572      6000.0    2011-03-14         Roman        1390         Roman   \n",
       "1   8776         0.0    2013-03-06       Grumeti        1399       GRUMETI   \n",
       "2  34310        25.0    2013-02-25  Lottery Club         686  World vision   \n",
       "\n",
       "   longitude  latitude     wpt_name  num_private     ...      water_quality  \\\n",
       "0  34.938093 -9.856322         none            0     ...               soft   \n",
       "1  34.698766 -2.147466     Zahanati            0     ...               soft   \n",
       "2  37.460664 -3.821329  Kwa Mahundi            0     ...               soft   \n",
       "\n",
       "  quality_group      quantity  quantity_group                source  \\\n",
       "0          good        enough          enough                spring   \n",
       "1          good  insufficient    insufficient  rainwater harvesting   \n",
       "2          good        enough          enough                   dam   \n",
       "\n",
       "            source_type source_class              waterpoint_type  \\\n",
       "0                spring  groundwater           communal standpipe   \n",
       "1  rainwater harvesting      surface           communal standpipe   \n",
       "2                   dam      surface  communal standpipe multiple   \n",
       "\n",
       "  waterpoint_type_group status_group  \n",
       "0    communal standpipe   functional  \n",
       "1    communal standpipe   functional  \n",
       "2    communal standpipe   functional  \n",
       "\n",
       "[3 rows x 41 columns]"
      ]
     },
     "execution_count": 4,
     "metadata": {},
     "output_type": "execute_result"
    }
   ],
   "source": [
    "train.head(3)"
   ]
  },
  {
   "cell_type": "code",
   "execution_count": 5,
   "metadata": {},
   "outputs": [
    {
     "name": "stdout",
     "output_type": "stream",
     "text": [
      "Number of pump status available: 59400\n",
      "Number of features in the dataset: 40\n",
      "Number of functional pumps: 36576\n",
      "Number of non-functional pumps: 22824\n",
      "Rate of functioning pumps: 62 %\n"
     ]
    }
   ],
   "source": [
    "# getting some key numbers\n",
    "\n",
    "n_status = train.shape[0]\n",
    "\n",
    "n_feature = train.shape[1] - 1 #because of the label\n",
    " \n",
    "n_nonfunctional = np.count_nonzero((train['status_group'] == 'non functional'))\n",
    "\n",
    "n_functional = n_status - n_nonfunctional\n",
    "\n",
    "functional_rate = n_functional/n_status*100\n",
    "\n",
    "print('Number of pump status available:', n_status),\n",
    "print('Number of features in the dataset:', n_feature)\n",
    "print('Number of functional pumps:', n_functional)\n",
    "print('Number of non-functional pumps:', n_nonfunctional)\n",
    "print('Rate of functioning pumps:', round(functional_rate),'%')"
   ]
  },
  {
   "cell_type": "code",
   "execution_count": 6,
   "metadata": {
    "collapsed": true
   },
   "outputs": [],
   "source": [
    "# storing and removing id\n",
    "training_id = training.id\n",
    "test_id = test.id\n",
    "training = training.drop(\"id\", inplace = False, axis = 1)\n",
    "test = test.drop(\"id\", inplace = False, axis = 1)"
   ]
  },
  {
   "cell_type": "code",
   "execution_count": 7,
   "metadata": {},
   "outputs": [
    {
     "name": "stdout",
     "output_type": "stream",
     "text": [
      "Shape of\n",
      "- training (59400, 39)\n",
      "- test (14850, 39)\n",
      "- train (59400, 41)\n"
     ]
    }
   ],
   "source": [
    "print(\"Shape of\")\n",
    "print(\"- training\",training.shape)\n",
    "print(\"- test\", test.shape)\n",
    "print(\"- train\", train.shape)"
   ]
  },
  {
   "cell_type": "markdown",
   "metadata": {},
   "source": [
    "### Data Preparation"
   ]
  },
  {
   "cell_type": "code",
   "execution_count": 8,
   "metadata": {
    "collapsed": true
   },
   "outputs": [],
   "source": [
    "# dropping the recorded_by column because it only has 1 unique value for both Train and Test\n",
    "training = training.drop(['recorded_by'], axis=1)\n",
    "test = test.drop(['recorded_by'], axis=1)"
   ]
  },
  {
   "cell_type": "code",
   "execution_count": 9,
   "metadata": {},
   "outputs": [
    {
     "name": "stdout",
     "output_type": "stream",
     "text": [
      "features shape: (74250, 38)\n"
     ]
    }
   ],
   "source": [
    "features = pd.concat([training, test]).reset_index(drop=True)\n",
    "print(\"features shape:\", features.shape)"
   ]
  },
  {
   "cell_type": "code",
   "execution_count": 10,
   "metadata": {},
   "outputs": [
    {
     "name": "stdout",
     "output_type": "stream",
     "text": [
      "Overview of column types\n",
      "\n",
      "amount_tsh               float64\n",
      "date_recorded             object\n",
      "funder                    object\n",
      "gps_height                 int64\n",
      "installer                 object\n",
      "longitude                float64\n",
      "latitude                 float64\n",
      "wpt_name                  object\n",
      "num_private                int64\n",
      "basin                     object\n",
      "subvillage                object\n",
      "region                    object\n",
      "region_code                int64\n",
      "district_code              int64\n",
      "lga                       object\n",
      "ward                      object\n",
      "population                 int64\n",
      "public_meeting            object\n",
      "scheme_management         object\n",
      "scheme_name               object\n",
      "permit                    object\n",
      "construction_year          int64\n",
      "extraction_type           object\n",
      "extraction_type_group     object\n",
      "extraction_type_class     object\n",
      "management                object\n",
      "management_group          object\n",
      "payment                   object\n",
      "payment_type              object\n",
      "water_quality             object\n",
      "quality_group             object\n",
      "quantity                  object\n",
      "quantity_group            object\n",
      "source                    object\n",
      "source_type               object\n",
      "source_class              object\n",
      "waterpoint_type           object\n",
      "waterpoint_type_group     object\n",
      "dtype: object\n"
     ]
    }
   ],
   "source": [
    "print(\"Overview of column types\")\n",
    "print('')\n",
    "print(features.dtypes)"
   ]
  },
  {
   "cell_type": "markdown",
   "metadata": {},
   "source": [
    "### Feature Engineering"
   ]
  },
  {
   "cell_type": "markdown",
   "metadata": {},
   "source": [
    "#### Dealing with NAs"
   ]
  },
  {
   "cell_type": "code",
   "execution_count": 11,
   "metadata": {},
   "outputs": [
    {
     "name": "stdout",
     "output_type": "stream",
     "text": [
      "                       0       1\n",
      "scheme_name        35258  object\n",
      "scheme_management   4846  object\n",
      "installer           4532  object\n",
      "funder              4504  object\n",
      "public_meeting      4155  object\n",
      "permit              3793  object\n",
      "subvillage           470  object\n",
      "There are 7 columns with missing values.\n"
     ]
    }
   ],
   "source": [
    "# chunk of code that Laurens used in the Kaggle House Prices competition\n",
    "nulls = np.sum(features.isnull())\n",
    "nullcols = nulls.loc[(nulls != 0)]\n",
    "dtypes = features.dtypes\n",
    "dtypes2 = dtypes.loc[(nulls != 0)]\n",
    "info = pd.concat([nullcols, dtypes2], axis=1).sort_values(by=0, ascending=False)\n",
    "print(info)\n",
    "print(\"There are\", len(nullcols), \"columns with missing values.\")"
   ]
  },
  {
   "cell_type": "code",
   "execution_count": 12,
   "metadata": {
    "collapsed": true
   },
   "outputs": [],
   "source": [
    "# filling missing values with 'None' for the following features: funder, scheme_name, subvillage \n",
    "features.update(features['funder'].fillna('None'))\n",
    "features.update(features['scheme_name'].fillna('None'))\n",
    "features.update(features['subvillage'].fillna('None'))"
   ]
  },
  {
   "cell_type": "code",
   "execution_count": 13,
   "metadata": {
    "collapsed": true
   },
   "outputs": [],
   "source": [
    "# filling missing values with median for: public_meeting, permit \n",
    "features.update(features['public_meeting'].fillna(features['public_meeting'].median()))\n",
    "features.update(features['permit'].fillna(features['permit'].median()))"
   ]
  },
  {
   "cell_type": "code",
   "execution_count": 14,
   "metadata": {
    "collapsed": true
   },
   "outputs": [],
   "source": [
    "# filling missing values with mode for: installer, scheme_management\n",
    "features.update(features['installer'].fillna(features['installer'].mode()[0]))\n",
    "features.update(features['scheme_management'].fillna(features['scheme_management'].mode()[0]))"
   ]
  },
  {
   "cell_type": "markdown",
   "metadata": {
    "collapsed": true
   },
   "source": [
    "#### Other transformations"
   ]
  },
  {
   "cell_type": "code",
   "execution_count": 15,
   "metadata": {
    "collapsed": true
   },
   "outputs": [],
   "source": [
    "# Replaced by MEDIAN\n",
    "\n",
    "# year 0 in: construction_year\n",
    "features['construction_year'].replace(to_replace=[0], \n",
    "                                      value = features['construction_year'].median(),\n",
    "                                      inplace=True)\n",
    "\n",
    "\n",
    "\n",
    "# Replaced by MODE\n",
    "\n",
    "# unkown value in: payment\n",
    "features['payment'].replace(to_replace=['unknown'], \n",
    "                                      value = features['payment'].mode(),\n",
    "                                      inplace=True)\n",
    "\n",
    "# unkown value in: water_quality\n",
    "features['water_quality'].replace(to_replace=['unknown'], \n",
    "                                      value = features['water_quality'].mode(),\n",
    "                                      inplace=True)\n",
    "\n",
    "# unkown value in: source_class\n",
    "features['source_class'].replace(to_replace=['unknown'], \n",
    "                                      value = features['source_class'].mode(),\n",
    "                                      inplace=True)\n",
    "\n",
    "# to check it worked well: list(set(features['source_class']))"
   ]
  },
  {
   "cell_type": "markdown",
   "metadata": {},
   "source": [
    "#### Creating some features"
   ]
  },
  {
   "cell_type": "code",
   "execution_count": 16,
   "metadata": {},
   "outputs": [
    {
     "name": "stdout",
     "output_type": "stream",
     "text": [
      "Data type of date_recorded is: object\n"
     ]
    }
   ],
   "source": [
    "print(\"Data type of date_recorded is:\", features['date_recorded'].dtype)\n",
    "# so we need to convert a datetime to an integer to make some features"
   ]
  },
  {
   "cell_type": "code",
   "execution_count": 17,
   "metadata": {
    "scrolled": true
   },
   "outputs": [
    {
     "name": "stdout",
     "output_type": "stream",
     "text": [
      "type of 'date_recorded' : datetime64[ns]\n"
     ]
    }
   ],
   "source": [
    "# setting date_recorded as datetime type\n",
    "features['date_recorded'] = pd.to_datetime(features['date_recorded'], format='%Y-%m-%d')\n",
    "print(\"type of 'date_recorded' :\", features['date_recorded'].dtype)\n",
    "\n",
    "# creating a feature: year_recorded\n",
    "features['year_recorded'] = features['date_recorded'].dt.year"
   ]
  },
  {
   "cell_type": "code",
   "execution_count": 18,
   "metadata": {
    "collapsed": true
   },
   "outputs": [],
   "source": [
    "# time how many years the pump has been in activity at the recorded date\n",
    "features['years_activity_when_rec'] = (features['year_recorded'] - features['construction_year'])"
   ]
  },
  {
   "cell_type": "code",
   "execution_count": 19,
   "metadata": {
    "collapsed": true
   },
   "outputs": [],
   "source": [
    "# I drop 'subvillage' as it has too many classes and would add mostly noise to the model\n",
    "features = features.drop(\"subvillage\", axis = 1)"
   ]
  },
  {
   "cell_type": "markdown",
   "metadata": {},
   "source": [
    "#### Rescaling some numerical features"
   ]
  },
  {
   "cell_type": "code",
   "execution_count": 20,
   "metadata": {},
   "outputs": [
    {
     "name": "stderr",
     "output_type": "stream",
     "text": [
      "C:\\Users\\lramp\\Anaconda3\\lib\\site-packages\\sklearn\\utils\\validation.py:475: DataConversionWarning: Data with input dtype int64 was converted to float64 by MinMaxScaler.\n",
      "  warnings.warn(msg, DataConversionWarning)\n"
     ]
    }
   ],
   "source": [
    "from sklearn.preprocessing import MinMaxScaler\n",
    "scaler = MinMaxScaler()\n",
    "\n",
    "features_to_rescale = ['population', 'amount_tsh', 'gps_height', 'longitude', 'latitude']\n",
    "\n",
    "for i in features_to_rescale:\n",
    "    features[i] = scaler.fit_transform(features[i].values.reshape(-1,1))"
   ]
  },
  {
   "cell_type": "markdown",
   "metadata": {},
   "source": [
    "#### Encoding caterical values"
   ]
  },
  {
   "cell_type": "code",
   "execution_count": 21,
   "metadata": {
    "collapsed": true
   },
   "outputs": [],
   "source": [
    "# label encoder should be preferred over One-Hot encoding, as we are going to use Random Forest for modeling\n",
    "from sklearn.preprocessing import LabelEncoder\n",
    "\n",
    "features_to_encode = ['date_recorded', 'year_recorded', 'years_activity_when_rec', 'funder', 'installer', 'wpt_name', 'basin', 'region','region_code', 'district_code','lga',\n",
    "              'ward', 'public_meeting', 'scheme_management', 'scheme_name', 'permit', 'extraction_type',\n",
    "              'extraction_type_group', 'extraction_type_group', 'extraction_type_class', 'management', 'management_group', 'payment',\n",
    "              'payment_type', 'water_quality', 'quality_group', 'quantity', 'quantity_group', 'source','source_type', 'source_class',\n",
    "              'waterpoint_type', 'waterpoint_type_group', 'num_private']\n",
    "\n",
    "\n",
    "cols = features_to_encode\n",
    "for c in cols:\n",
    "    lbl = LabelEncoder() \n",
    "    lbl.fit(list(features[c].values)) \n",
    "    features[c] = lbl.transform(list(features[c].values))"
   ]
  },
  {
   "cell_type": "code",
   "execution_count": 22,
   "metadata": {},
   "outputs": [
    {
     "name": "stdout",
     "output_type": "stream",
     "text": [
      "(59400, 39)\n",
      "(14850, 39)\n",
      "Good, both dimensions are coherent.\n"
     ]
    }
   ],
   "source": [
    "# we have to split again the data between train and test\n",
    "\n",
    "X = features.iloc[:len(train),:]\n",
    "testing_features = features.iloc[len(X):,:]\n",
    "\n",
    "print(X.shape)\n",
    "print(testing_features.shape)\n",
    "print(\"Good, both dimensions are coherent.\")"
   ]
  },
  {
   "cell_type": "markdown",
   "metadata": {
    "collapsed": true
   },
   "source": [
    "### Modeling"
   ]
  },
  {
   "cell_type": "code",
   "execution_count": 23,
   "metadata": {
    "collapsed": true
   },
   "outputs": [],
   "source": [
    "# importing libraries\n",
    "from sklearn.model_selection import StratifiedKFold, cross_val_score\n",
    "from sklearn.ensemble import RandomForestClassifier"
   ]
  },
  {
   "cell_type": "code",
   "execution_count": 24,
   "metadata": {
    "collapsed": true
   },
   "outputs": [],
   "source": [
    "# cross validation\n",
    "kfold = StratifiedKFold(n_splits=7, random_state=42, shuffle=True)"
   ]
  },
  {
   "cell_type": "code",
   "execution_count": 25,
   "metadata": {
    "collapsed": true
   },
   "outputs": [],
   "source": [
    "# modeling with RandomForestClassifier\n",
    "rf = RandomForestClassifier()\n",
    "clf = rf.fit(X, y.values.ravel()) "
   ]
  },
  {
   "cell_type": "code",
   "execution_count": 26,
   "metadata": {},
   "outputs": [
    {
     "name": "stdout",
     "output_type": "stream",
     "text": [
      "Base line model: Random Forest average score: 79.94614344946896\n"
     ]
    }
   ],
   "source": [
    "cross_val =  cross_val_score(clf, X, y.values.ravel(), scoring='accuracy', cv = kfold)\n",
    "print(\"Base line model: Random Forest average score:\",cross_val.mean()*100)"
   ]
  },
  {
   "cell_type": "markdown",
   "metadata": {
    "collapsed": true
   },
   "source": [
    "### Prediction"
   ]
  },
  {
   "cell_type": "code",
   "execution_count": 27,
   "metadata": {
    "collapsed": true
   },
   "outputs": [],
   "source": [
    "prediction = rf.fit(X, y.values.ravel()).predict(testing_features)\n",
    "submission = pd.DataFrame()\n",
    "submission['id'] = test_id\n",
    "submission['status_group'] = prediction\n",
    "\n",
    "submission.to_csv(\"Pump_it_up_submission.csv\",index = False)"
   ]
  },
  {
   "cell_type": "markdown",
   "metadata": {},
   "source": [
    "### ROC analysis"
   ]
  },
  {
   "cell_type": "code",
   "execution_count": 28,
   "metadata": {},
   "outputs": [
    {
     "name": "stderr",
     "output_type": "stream",
     "text": [
      "C:\\Users\\lramp\\Anaconda3\\lib\\site-packages\\sklearn\\cross_validation.py:41: DeprecationWarning: This module was deprecated in version 0.18 in favor of the model_selection module into which all the refactored classes and functions are moved. Also note that the interface of the new CV iterators are different from that of this module. This module will be removed in 0.20.\n",
      "  \"This module will be removed in 0.20.\", DeprecationWarning)\n"
     ]
    }
   ],
   "source": [
    "from sklearn.metrics import roc_curve, auc\n",
    "from sklearn.multiclass import OneVsRestClassifier\n",
    "from sklearn.ensemble import RandomForestClassifier\n",
    "from sklearn.preprocessing import label_binarize\n",
    "from sklearn.cross_validation import train_test_split\n",
    "import matplotlib.pyplot as plt"
   ]
  },
  {
   "cell_type": "code",
   "execution_count": 29,
   "metadata": {
    "collapsed": true
   },
   "outputs": [],
   "source": [
    "# multi-class classification\n",
    "y = label_binarize(y, classes=['functional','non functional','functional needs repair'])\n",
    "\n",
    "n_classes = 3"
   ]
  },
  {
   "cell_type": "code",
   "execution_count": 30,
   "metadata": {
    "collapsed": true
   },
   "outputs": [],
   "source": [
    "# shuffle and split training and test sets\n",
    "X_train, X_test, y_train, y_test =\\\n",
    "    train_test_split(X, y, test_size=0.25, random_state=8)"
   ]
  },
  {
   "cell_type": "code",
   "execution_count": 31,
   "metadata": {
    "collapsed": true
   },
   "outputs": [],
   "source": [
    "# Random Forest classifier\n",
    "clf = OneVsRestClassifier(RandomForestClassifier())\n",
    "y_score = clf.fit(X_train, y_train).predict(X_test)"
   ]
  },
  {
   "cell_type": "code",
   "execution_count": 32,
   "metadata": {
    "collapsed": true
   },
   "outputs": [],
   "source": [
    "# Compute ROC curve and ROC area for each class\n",
    "fpr = dict()\n",
    "tpr = dict()\n",
    "roc_auc = dict()\n",
    "for i in range(n_classes):\n",
    "    fpr[i], tpr[i], _ = roc_curve(y_test[:, i], y_score[:, i])\n",
    "    roc_auc[i] = auc(fpr[i], tpr[i])"
   ]
  },
  {
   "cell_type": "code",
   "execution_count": 33,
   "metadata": {},
   "outputs": [
    {
     "data": {
      "image/png": "[encoded data removed]",
      "text/plain": [
       "<matplotlib.figure.Figure at 0x1dd8295fd68>"
      ]
     },
     "metadata": {},
     "output_type": "display_data"
    },
    {
     "data": {
      "image/png": "[encoded data removed]",
      "text/plain": [
       "<matplotlib.figure.Figure at 0x1dd829deda0>"
      ]
     },
     "metadata": {},
     "output_type": "display_data"
    },
    {
     "data": {
      "image/png": "[encoded data removed]",
      "text/plain": [
       "<matplotlib.figure.Figure at 0x1dd856f24e0>"
      ]
     },
     "metadata": {},
     "output_type": "display_data"
    }
   ],
   "source": [
    "# Plot of a ROC curve for a specific class\n",
    "for i in range(n_classes):\n",
    "    plt.figure()\n",
    "    plt.plot(fpr[i], tpr[i], color='darkorange', label='ROC curve (area = %0.2f)' % roc_auc[i])\n",
    "    plt.plot([0, 1], [0, 1], 'k--')\n",
    "    plt.xlim([0.0, 1.0])\n",
    "    plt.ylim([0.0, 1.05])\n",
    "    plt.xlabel('False Positive Rate')\n",
    "    plt.ylabel('True Positive Rate')\n",
    "    plt.title('ROC example')\n",
    "    plt.legend(loc=\"lower right\")\n",
    "    plt.show()"
   ]
  },
  {
   "cell_type": "markdown",
   "metadata": {
    "collapsed": true
   },
   "source": [
    "J'ai utilisé 75% du dataset pour le training, et donc 25% pour le test.\n",
    "Il y en a 3, puisqu'il y en a 1 par label."
   ]
  },
  {
   "cell_type": "markdown",
   "metadata": {},
   "source": [
    "##### Pour les prédictions \"functional\"\n",
    "Bon ROC, suffisamment distant de la droite de référence c'est à dire de la random measure en pointillé.\n",
    "L'AUC (Area Under the Curve) est de 0.81 ce qui est convenable. \n",
    "Le ratio True Positive sur False Positive en \"début de courbe\" est satisfaisant (pour de la maintenance de pompes à eau...). Le modèle identifie donc bien un peu plus de 80% des pompes en état de marche, avec un bon ratio de 0.83/0.2 ."
   ]
  },
  {
   "cell_type": "markdown",
   "metadata": {},
   "source": [
    "##### Pour les prédictions \"non functional\" \n",
    "Le ROC est également bon pour ce label, avec une AUC supérieure à 0.83.\n",
    "Le True Positive Rate a un très bon ratio par rapport au False Positive Rate en \"début de courbe\". Cela signifie que le modèle identifie vraiment bien la majorité des True Positive. Ce ratio est vraiment bon."
   ]
  },
  {
   "cell_type": "markdown",
   "metadata": {},
   "source": [
    "##### Pour les prédictions \"functional needs repair\"\n",
    "Mauvais ROC , faible distinction par rapport à la droite de référence.\n",
    "Cela se ressent évidemment sur la AUC qui est à 0.64. Il est donc difficile de pronostiquer efficacement les pompes qui ont besoins de réparation.\n",
    "Seulement 30% des True Positives sont prédits avec une quasi-certitude. C'est très faible ! Au-delà le modèle converge vers la random measure.\n"
   ]
  },
  {
   "cell_type": "markdown",
   "metadata": {
    "collapsed": true
   },
   "source": [
    "### What else could be done to improve the model?"
   ]
  },
  {
   "cell_type": "markdown",
   "metadata": {},
   "source": [
    "- ensemble modeling\n",
    "- categorizing more features (really tedious work)"
   ]
  }
 ],
 "metadata": {
  "kernelspec": {
   "display_name": "Python 3",
   "language": "python",
   "name": "python3"
  },
  "language_info": {
   "codemirror_mode": {
    "name": "ipython",
    "version": 3
   },
   "file_extension": ".py",
   "mimetype": "text/x-python",
   "name": "python",
   "nbconvert_exporter": "python",
   "pygments_lexer": "ipython3",
   "version": "3.6.3"
  }
 },
 "nbformat": 4,
 "nbformat_minor": 2
}
